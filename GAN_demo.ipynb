{
 "cells": [
  {
   "cell_type": "markdown",
   "id": "92ab1516",
   "metadata": {},
   "source": [
    "# Import"
   ]
  },
  {
   "cell_type": "code",
   "execution_count": 1,
   "id": "f84d2cc9",
   "metadata": {},
   "outputs": [],
   "source": [
    "# only use CPU\n",
    "import os\n",
    "os.environ[\"CUDA_VISIBLE_DEVICES\"]=\"-1\" "
   ]
  },
  {
   "cell_type": "code",
   "execution_count": 42,
   "id": "62b13c13",
   "metadata": {},
   "outputs": [],
   "source": [
    "import tensorflow as tf\n",
    "import tensorflow.keras.backend as K\n",
    "from tensorflow.keras.utils import model_to_dot\n",
    "from IPython.display import Image, display\n",
    "import numpy as np\n",
    "import importlib"
   ]
  },
  {
   "cell_type": "code",
   "execution_count": 3,
   "id": "f1e9c0dd",
   "metadata": {},
   "outputs": [],
   "source": [
    "# models\n",
    "import models.sdf as SDF\n",
    "import models.conditional as Conditional\n",
    "\n",
    "# loss\n",
    "import models.loss as Loss\n",
    "\n",
    "# training\n",
    "import models.training as Training\n",
    "\n",
    "# data\n",
    "import models.data as Data"
   ]
  },
  {
   "cell_type": "code",
   "execution_count": 4,
   "id": "8404e29e",
   "metadata": {},
   "outputs": [],
   "source": [
    "# gpu_lst = tf.config.list_physical_devices(\"GPU\")\n",
    "# if not gpu_lst:\n",
    "#     raise Exception(\"No GPU\")"
   ]
  },
  {
   "cell_type": "code",
   "execution_count": 37,
   "id": "f39f2792",
   "metadata": {},
   "outputs": [],
   "source": [
    "# view pydot\n",
    "def view_pydot(pdot):\n",
    "    plt = Image(pdot.create_png())\n",
    "    display(plt)"
   ]
  },
  {
   "cell_type": "markdown",
   "id": "3ef11781",
   "metadata": {},
   "source": [
    "# Data"
   ]
  },
  {
   "cell_type": "code",
   "execution_count": 5,
   "id": "032fd411",
   "metadata": {},
   "outputs": [],
   "source": [
    "path = \"../datasets\""
   ]
  },
  {
   "cell_type": "code",
   "execution_count": 6,
   "id": "1e2dc81c",
   "metadata": {},
   "outputs": [
    {
     "name": "stdout",
     "output_type": "stream",
     "text": [
      "\u001b[0m\u001b[34;42mchar\u001b[0m/  \u001b[34;42mmacro\u001b[0m/  \u001b[34;42mRF\u001b[0m/\r\n"
     ]
    }
   ],
   "source": [
    "ls ../datasets"
   ]
  },
  {
   "cell_type": "markdown",
   "id": "76dc6a8e",
   "metadata": {},
   "source": [
    "## Macro data"
   ]
  },
  {
   "cell_type": "code",
   "execution_count": 7,
   "id": "06068a0e",
   "metadata": {},
   "outputs": [],
   "source": [
    "macro_path = f\"{path}/macro/macro_train.npz\""
   ]
  },
  {
   "cell_type": "code",
   "execution_count": 8,
   "id": "77228f04",
   "metadata": {},
   "outputs": [],
   "source": [
    "macro_data = np.load(macro_path)"
   ]
  },
  {
   "cell_type": "code",
   "execution_count": 9,
   "id": "349c35ce",
   "metadata": {},
   "outputs": [
    {
     "data": {
      "text/plain": [
       "['date', 'variable', 'data']"
      ]
     },
     "execution_count": 9,
     "metadata": {},
     "output_type": "execute_result"
    }
   ],
   "source": [
    "macro_data.files"
   ]
  },
  {
   "cell_type": "code",
   "execution_count": 10,
   "id": "de4914d4",
   "metadata": {},
   "outputs": [
    {
     "data": {
      "text/plain": [
       "(240, 178)"
      ]
     },
     "execution_count": 10,
     "metadata": {},
     "output_type": "execute_result"
    }
   ],
   "source": [
    "macro_data[\"data\"].shape"
   ]
  },
  {
   "cell_type": "markdown",
   "id": "7a1155f0",
   "metadata": {},
   "source": [
    "1. 178 macro features\n",
    "2. 240 time entries"
   ]
  },
  {
   "cell_type": "code",
   "execution_count": 11,
   "id": "3be4a28c",
   "metadata": {},
   "outputs": [
    {
     "data": {
      "text/plain": [
       "(178,)"
      ]
     },
     "execution_count": 11,
     "metadata": {},
     "output_type": "execute_result"
    }
   ],
   "source": [
    "# each date entry has 178 macro features\n",
    "macro_data[\"data\"][0].shape"
   ]
  },
  {
   "cell_type": "markdown",
   "id": "8d9e9c99",
   "metadata": {},
   "source": [
    "## Firm data"
   ]
  },
  {
   "cell_type": "code",
   "execution_count": 12,
   "id": "98644cb8",
   "metadata": {},
   "outputs": [],
   "source": [
    "firm_path = f\"{path}/char/Char_train.npz\""
   ]
  },
  {
   "cell_type": "code",
   "execution_count": 13,
   "id": "76ce9227",
   "metadata": {},
   "outputs": [],
   "source": [
    "firm_data = np.load(firm_path)"
   ]
  },
  {
   "cell_type": "code",
   "execution_count": 14,
   "id": "0bb2c8e1",
   "metadata": {},
   "outputs": [
    {
     "data": {
      "text/plain": [
       "['date', 'variable', 'data']"
      ]
     },
     "execution_count": 14,
     "metadata": {},
     "output_type": "execute_result"
    }
   ],
   "source": [
    "firm_data.files"
   ]
  },
  {
   "cell_type": "code",
   "execution_count": 15,
   "id": "e8164cf5",
   "metadata": {},
   "outputs": [
    {
     "data": {
      "text/plain": [
       "(240, 3686, 47)"
      ]
     },
     "execution_count": 15,
     "metadata": {},
     "output_type": "execute_result"
    }
   ],
   "source": [
    "firm_data[\"data\"].shape"
   ]
  },
  {
   "cell_type": "markdown",
   "id": "adbcc619",
   "metadata": {},
   "source": [
    "1. 46 firm-specific characteristics\n",
    "2. 1 excess return - to be used for SDF construction\n",
    "3. 240 time entry\n",
    "4. 3686 firms"
   ]
  },
  {
   "cell_type": "code",
   "execution_count": 16,
   "id": "0f677229",
   "metadata": {},
   "outputs": [
    {
     "data": {
      "text/plain": [
       "(3686, 47)"
      ]
     },
     "execution_count": 16,
     "metadata": {},
     "output_type": "execute_result"
    }
   ],
   "source": [
    "# each date entry has 3686 firms, 46 firm specific char + 1 return\n",
    "firm_data[\"data\"][0].shape"
   ]
  },
  {
   "cell_type": "markdown",
   "id": "3429a256",
   "metadata": {},
   "source": [
    "## Data cleaning"
   ]
  },
  {
   "cell_type": "code",
   "execution_count": 17,
   "id": "2c8a53cc",
   "metadata": {},
   "outputs": [],
   "source": [
    "importlib.reload(Data)\n",
    "macro_train, firm_train, return_train, mask_train = Data.Data().clean(macro_data[\"data\"], firm_data[\"data\"])"
   ]
  },
  {
   "cell_type": "markdown",
   "id": "a3ad6711",
   "metadata": {},
   "source": [
    "Total time period: 240\n",
    "\n",
    "Total firms: 3686\n",
    "\n",
    "Total macro, firm features: 178, 46"
   ]
  },
  {
   "cell_type": "code",
   "execution_count": 18,
   "id": "b76454bb",
   "metadata": {},
   "outputs": [
    {
     "data": {
      "text/plain": [
       "((240, 1, 178), (240, 3686, 46), (240, 3686), (240, 3686))"
      ]
     },
     "execution_count": 18,
     "metadata": {},
     "output_type": "execute_result"
    }
   ],
   "source": [
    "macro_train.shape, firm_train.shape, return_train.shape, mask_train.shape"
   ]
  },
  {
   "cell_type": "code",
   "execution_count": 19,
   "id": "fed0baf1",
   "metadata": {},
   "outputs": [],
   "source": [
    "n = 5\n",
    "sample = [\n",
    "    macro_train[:, :, :],\n",
    "    firm_train[:, :n, :],\n",
    "    return_train[:, :n],\n",
    "    mask_train[:, :n]\n",
    "]"
   ]
  },
  {
   "cell_type": "code",
   "execution_count": 20,
   "id": "5b70f27c",
   "metadata": {},
   "outputs": [
    {
     "name": "stdout",
     "output_type": "stream",
     "text": [
      "(240, 1, 178)\n",
      "(240, 5, 46)\n",
      "(240, 5)\n",
      "(240, 5)\n"
     ]
    }
   ],
   "source": [
    "# we take 5 samples to test run\n",
    "for _ in sample:\n",
    "    print(_.shape)"
   ]
  },
  {
   "cell_type": "markdown",
   "id": "a6ebf4e6",
   "metadata": {},
   "source": [
    "# Models"
   ]
  },
  {
   "cell_type": "markdown",
   "id": "b413117e",
   "metadata": {},
   "source": [
    "## SDF"
   ]
  },
  {
   "cell_type": "code",
   "execution_count": 21,
   "id": "b4a3db9b",
   "metadata": {},
   "outputs": [
    {
     "data": {
      "text/plain": [
       "TensorShape([240, 1])"
      ]
     },
     "execution_count": 21,
     "metadata": {},
     "output_type": "execute_result"
    }
   ],
   "source": [
    "importlib.reload(SDF)\n",
    "sdf = SDF.SDFModel()\n",
    "sdf(sample).shape"
   ]
  },
  {
   "cell_type": "code",
   "execution_count": 22,
   "id": "f4f262d4",
   "metadata": {
    "scrolled": false
   },
   "outputs": [
    {
     "name": "stdout",
     "output_type": "stream",
     "text": [
      "Model: \"SDF\"\n",
      "_________________________________________________________________\n",
      "Layer (type)                 Output Shape              Param #   \n",
      "=================================================================\n",
      "State_RNN (LSTM)             multiple                  2928      \n",
      "_________________________________________________________________\n",
      "SDF_dense1 (Dense)           multiple                  1632      \n",
      "_________________________________________________________________\n",
      "SDF_dense2 (Dense)           multiple                  1056      \n",
      "_________________________________________________________________\n",
      "SDF_w (Dense)                multiple                  33        \n",
      "_________________________________________________________________\n",
      "dropout (Dropout)            multiple                  0         \n",
      "=================================================================\n",
      "Total params: 5,649\n",
      "Trainable params: 5,649\n",
      "Non-trainable params: 0\n",
      "_________________________________________________________________\n"
     ]
    }
   ],
   "source": [
    "sdf.summary()"
   ]
  },
  {
   "cell_type": "code",
   "execution_count": 43,
   "id": "d716d8e5",
   "metadata": {},
   "outputs": [
    {
     "data": {
      "image/png": "[encoded data removed]",
      "text/plain": [
       "<IPython.core.display.Image object>"
      ]
     },
     "metadata": {},
     "output_type": "display_data"
    }
   ],
   "source": [
    "view_pydot(model_to_dot(sdf))"
   ]
  },
  {
   "cell_type": "code",
   "execution_count": 23,
   "id": "e36a7c41",
   "metadata": {},
   "outputs": [
    {
     "data": {
      "text/plain": [
       "TensorShape([8, 240, 5])"
      ]
     },
     "execution_count": 23,
     "metadata": {},
     "output_type": "execute_result"
    }
   ],
   "source": [
    "importlib.reload(Conditional)\n",
    "conditional = Conditional.ConditionalModel()\n",
    "conditional(sample).shape"
   ]
  },
  {
   "cell_type": "code",
   "execution_count": 24,
   "id": "31e3900c",
   "metadata": {},
   "outputs": [
    {
     "name": "stdout",
     "output_type": "stream",
     "text": [
      "Model: \"Condtional\"\n",
      "_________________________________________________________________\n",
      "Layer (type)                 Output Shape              Param #   \n",
      "=================================================================\n",
      "Moment_RNN (LSTM)            multiple                  27008     \n",
      "_________________________________________________________________\n",
      "Conditional_g (Dense)        multiple                  632       \n",
      "_________________________________________________________________\n",
      "dropout_1 (Dropout)          multiple                  0         \n",
      "=================================================================\n",
      "Total params: 27,640\n",
      "Trainable params: 27,640\n",
      "Non-trainable params: 0\n",
      "_________________________________________________________________\n"
     ]
    }
   ],
   "source": [
    "conditional.summary()"
   ]
  },
  {
   "cell_type": "markdown",
   "id": "8a6de926",
   "metadata": {},
   "source": [
    "# Loss"
   ]
  },
  {
   "cell_type": "code",
   "execution_count": 27,
   "id": "5bf40863",
   "metadata": {},
   "outputs": [
    {
     "name": "stdout",
     "output_type": "stream",
     "text": [
      "mask shape = (240, 5)\n",
      "return data shape = (240, 5)\n",
      "SDF shape: (240, 1)\n",
      "moment shape: (8, 240, 5)\n",
      "masked return shape: (240, 5)\n",
      "empirical mean shape: (8, 5)\n",
      "empirical mean shape: (8, 5)\n",
      "loss shape: (8, 5)\n",
      "normalized loss shape: ()\n",
      "tf.Tensor(8.050762e-06, shape=(), dtype=float32)\n"
     ]
    },
    {
     "data": {
      "text/plain": [
       "<tf.Tensor: shape=(), dtype=float32, numpy=8.050762e-06>"
      ]
     },
     "execution_count": 27,
     "metadata": {},
     "output_type": "execute_result"
    }
   ],
   "source": [
    "importlib.reload(Loss)\n",
    "pricing_loss = Loss.PricingLoss()\n",
    "pricing_loss(\n",
    "    sdf = sdf(sample),\n",
    "    moment = conditional(sample),\n",
    "    return_data = sample[2],\n",
    "    mask = sample[3],\n",
    "    verbose = True\n",
    ")"
   ]
  },
  {
   "cell_type": "code",
   "execution_count": 28,
   "id": "c9eda008",
   "metadata": {},
   "outputs": [
    {
     "data": {
      "text/plain": [
       "-0.058704566"
      ]
     },
     "execution_count": 28,
     "metadata": {},
     "output_type": "execute_result"
    }
   ],
   "source": [
    "pricing_loss.sharpe_loss(\n",
    "    sdf = sdf(sample)\n",
    ")"
   ]
  },
  {
   "cell_type": "markdown",
   "id": "5dad126d",
   "metadata": {},
   "source": [
    "# Training"
   ]
  },
  {
   "cell_type": "markdown",
   "id": "11866b25",
   "metadata": {},
   "source": [
    "Macro feature: 240 x 178\n",
    "Firm feature: 240 x ? x 46\n",
    "Return: 240 x ?\n",
    "Mask: 240 x ?"
   ]
  },
  {
   "cell_type": "code",
   "execution_count": 31,
   "id": "8569712c",
   "metadata": {},
   "outputs": [],
   "source": [
    "importlib.reload(Training)\n",
    "trainer = Training.Trainer(loss=Loss.PricingLoss())\n",
    "optimizer = tf.keras.optimizers.Adam(learning_rate=0.001)"
   ]
  },
  {
   "cell_type": "code",
   "execution_count": 36,
   "id": "7431a4f6",
   "metadata": {},
   "outputs": [
    {
     "name": "stdout",
     "output_type": "stream",
     "text": [
      "==============Start unconditional training===========\n",
      "\n",
      "                      unconditional SDF epochs 0\n",
      "                      epoch loss = 7.385207572951913e-05\n",
      "                      epoch Sharpe = (-0.03154529, -0.059385043)\n",
      "                      max Sharpe = (0, 0)\n",
      "                      \n",
      "==============Start moments training===========\n",
      "\n",
      "                      moments epochs 0\n",
      "                      epoch loss = -8.135479220072739e-06\n",
      "                      \n",
      "==============Start GAN training===========\n",
      "\n",
      "                      epochs 0\n",
      "                      epoch SDF loss = 6.281208334257826e-05\n",
      "                      epoch moment loss = -1.4170555914461147e-05\n",
      "                      epoch Sharpe = (-0.059304785, -0.059785888)\n",
      "                      max Sharpe = (0, 0)\n",
      "                      \n"
     ]
    }
   ],
   "source": [
    "trainer.train(\n",
    "    sdf_model=sdf,\n",
    "    conditional_model=conditional,\n",
    "    optimizer=optimizer,\n",
    "    inputs=sample,\n",
    "    valid_inputs=sample,\n",
    "    sdf_epoches_unc=1,\n",
    "    moment_epoches=1,\n",
    "    epoches=1,\n",
    "    verbose_freq=100\n",
    ")"
   ]
  },
  {
   "cell_type": "code",
   "execution_count": null,
   "id": "d3328d51",
   "metadata": {},
   "outputs": [],
   "source": []
  }
 ],
 "metadata": {
  "kernelspec": {
   "display_name": "Python 3",
   "language": "python",
   "name": "python3"
  },
  "language_info": {
   "codemirror_mode": {
    "name": "ipython",
    "version": 3
   },
   "file_extension": ".py",
   "mimetype": "text/x-python",
   "name": "python",
   "nbconvert_exporter": "python",
   "pygments_lexer": "ipython3",
   "version": "3.9.0"
  }
 },
 "nbformat": 4,
 "nbformat_minor": 5
}
