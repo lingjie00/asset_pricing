{
 "cells": [
  {
   "cell_type": "code",
   "execution_count": 42,
   "id": "f4f25651",
   "metadata": {},
   "outputs": [
    {
     "name": "stdout",
     "output_type": "stream",
     "text": [
      "[PhysicalDevice(name='/physical_device:GPU:0', device_type='GPU')]\n"
     ]
    },
    {
     "name": "stderr",
     "output_type": "stream",
     "text": [
      "INFO:jsonrpcserver.dispatcher.request:{\"jsonrpc\": \"2.0\", \"method\": \"SyncRequest\", \"params\": {\"data\": {\"file_name\": \"/home/ling/projects/thesis/asset_pricing/gan_model.sync.py\", \"contents\": \"# %%\\n# import library\\nfrom IPython.display import Image, display\\nimport logging\\nimport importlib\\n\\nimport numpy as np\\nimport pandas as pd\\nimport statsmodels.api as sm\\nimport tensorflow as tf\\nimport tensorflow.keras as keras\\nfrom tensorflow.keras.utils import model_to_dot\\n\\nimport models.gan as gan\\nimportlib.reload(gan)\\n\\nlogging.basicConfig(level=logging.DEBUG)\\n\\n# set seed for TensorFlow\\ntf.random.set_seed(20220102)\\n\\n############################\\n# Test if GPU is available #\\n############################\\ngpus = tf.config.list_physical_devices(\\\"GPU\\\")\\n\\nif gpus:\\n  print(gpus)\\nelse:\\n  raise Exception(\\\"No GPU\\\")\\n\\n\\n# %%\\n# view pydot\\ndef view_pydot(pdot):\\n  plt = Image(pdot.create_png())\\n  display(plt)\\n\\n\\n# %%\\n# load data\\npath = \\\"../datasets\\\"\\n\\n# training data\\nmacro_train_zip = np.load(f\\\"{path}/macro/macro_train.npz\\\")\\nfirm_train_zip = np.load(f\\\"{path}/char/Char_train.npz\\\")\\nmacro_train = macro_train_zip[\\\"data\\\"]\\nfirm_train = firm_train_zip[\\\"data\\\"]\\nreturn_train = firm_train[:, :, 0]\\nfirm_train = firm_train[:, :, 1:]\\n\\n# validation data\\nmacro_valid_zip = np.load(f\\\"{path}/macro/macro_valid.npz\\\")\\nfirm_valid_zip = np.load(f\\\"{path}/char/Char_valid.npz\\\")\\nmacro_valid = macro_valid_zip[\\\"data\\\"]\\nfirm_valid = firm_valid_zip[\\\"data\\\"]\\nreturn_valid = firm_valid[:, :, 0]\\nfirm_valid = firm_valid[:, :, 1:]\\n\\n# test data\\nmacro_test_zip = np.load(f\\\"{path}/macro/macro_test.npz\\\")\\nfirm_test_zip = np.load(f\\\"{path}/char/Char_test.npz\\\")\\nmacro_test = macro_test_zip[\\\"data\\\"]\\nfirm_test = firm_test_zip[\\\"data\\\"]\\nreturn_test = firm_test[:, :, 0]\\nfirm_test = firm_test[:, :, 1:]\\n\\nprint(f\\\"macro train shape: {macro_train.shape}\\\")\\nprint(f\\\"firm train shape: {firm_train.shape}\\\")\\nprint(f\\\"macro valid shape: {macro_valid.shape}\\\")\\nprint(f\\\"firm valid shape: {firm_valid.shape}\\\")\\nprint(f\\\"macro test shape: {macro_test.shape}\\\")\\nprint(f\\\"firm test shape: {firm_test.shape}\\\")\\n\\n# %%\\n# remove zip files\\ndel macro_train_zip, firm_train_zip\\ndel macro_valid_zip, firm_valid_zip\\ndel macro_test_zip, firm_test_zip\\n\\n# %%\\n# Hyper-parameters (train)\\n_macro_feature = macro_train.shape[1]\\n_num_firms = firm_train.shape[1]\\n_num_chars = firm_train.shape[2]\\nmacro_shape = (_macro_feature, 1, )\\nfirm_shape = (_num_firms, _num_chars, )\\n\\nprint(f\\\"macro shape: {macro_shape}\\\")\\nprint(f\\\"firm shape: {firm_shape}\\\")\\n\\nmacro_network = gan.create_macro_network(\\n  macro_shape=macro_shape,\\n  num_firms=_num_firms,\\n  name=\\\"discriminant_macro\\\",\\n  LSTM_units=4\\n)\\n\\ndiscriminant_network = gan.create_discriminant_network(\\n  firm_shape=firm_shape,\\n  macro_network=macro_network,\\n  returns=return_train\\n)\\n\\nprint(f\\\"\\\"\\\"network output shape: {discriminant_network(\\n  [macro_train, firm_train]).shape}\\\"\\\"\\\")\\ndiscriminant_network.summary()\\n\\ngenerative_macro = gan.create_macro_network(\\n  macro_shape=macro_shape,\\n  num_firms=_num_firms,\\n  name=\\\"generative_macro\\\",\\n  LSTM_units=32\\n)\\n\\ngenerative_network = gan.create_generative_network(\\n  firm_shape=firm_shape,\\n  macro_network=generative_macro\\n)\\n\\nprint(f\\\"\\\"\\\"network output shape: {generative_network(\\n  [macro_train, firm_train]).shape}\\\"\\\"\\\")\\ngenerative_network.summary()\\n\\n# %%\\nview_pydot(model_to_dot(discriminant_network))\\nview_pydot(model_to_dot(generative_network))\\n\\n\\n# %%\\n# Hyper-parameters (valid)\\n_macro_feature = macro_valid.shape[1]\\n_num_firms = firm_valid.shape[1]\\n_num_chars = firm_valid.shape[2]\\nmacro_shape = (_macro_feature, 1, )\\nfirm_shape = (_num_firms, _num_chars, )\\n\\nprint(f\\\"macro shape: {macro_shape}\\\")\\nprint(f\\\"firm shape: {firm_shape}\\\")\\n\\nmacro_network_valid = gan.create_macro_network(\\n  macro_shape=macro_shape,\\n  num_firms=_num_firms,\\n  name=\\\"discriminant_macro_valid\\\",\\n  LSTM_units=4\\n)\\n\\ndiscriminant_network_valid = gan.create_discriminant_network(\\n  firm_shape=firm_shape,\\n  macro_network=macro_network_valid,\\n  returns=return_valid\\n)\\n\\nprint(f\\\"\\\"\\\"network output shape: {discriminant_network_valid(\\n  [macro_valid, firm_valid]).shape}\\\"\\\"\\\")\\ndiscriminant_network.summary()\\n\\n# %%\\n# Hyper-parameters (test)\\n_macro_feature = macro_test.shape[1]\\n_num_firms = firm_test.shape[1]\\n_num_chars = firm_test.shape[2]\\nmacro_shape = (_macro_feature, 1, )\\nfirm_shape = (_num_firms, _num_chars, )\\n\\nprint(f\\\"macro shape: {macro_shape}\\\")\\nprint(f\\\"firm shape: {firm_shape}\\\")\\n\\nmacro_network_test = gan.create_macro_network(\\n  macro_shape=macro_shape,\\n  num_firms=_num_firms,\\n  name=\\\"discriminant_macro_test\\\",\\n  LSTM_units=4\\n)\\n\\ndiscriminant_network_test = gan.create_discriminant_network(\\n  firm_shape=firm_shape,\\n  macro_network=macro_network_test,\\n  returns=return_test\\n)\\n\\nprint(f\\\"\\\"\\\"network output shape: {discriminant_network_test(\\n  [macro_test, firm_test]).shape}\\\"\\\"\\\")\\ndiscriminant_network.summary()\\n\\n# %%\\nweight_model = keras.Model(\\n  inputs=discriminant_network.inputs,\\n  outputs=discriminant_network.get_layer(\\\"sdf_w\\\").output\\n)\\n\\nweight_model([macro_train, firm_train])\\n\\n# %%\\nsdf = discriminant_network([macro_train, firm_train])\\nmoment = generative_network([macro_train, firm_train])\\n\\nloss = gan.PricingLoss(\\n  sdf=sdf,\\n  moment=moment,\\n  returns=return_train\\n)\\n\\nshape_loss = gan.sharpe_loss(sdf)\\n\\nlogging.debug(f\\\"Initial Pricing loss: {loss}\\\")\\nlogging.debug(f\\\"Initial SHARPE loss: {shape_loss}\\\")\\n\\n# %%\\nlr_schedule = keras.optimizers.schedules.ExponentialDecay(\\n  initial_learning_rate=0.001,\\n  decay_steps=10000,\\n  decay_rate=0.9\\n)\\noptimizer = keras.optimizers.Adam(learning_rate=0.001)\\ngan.train(\\n  inputs=[macro_train, firm_train],\\n  returns=return_train,\\n  optimizer=optimizer,\\n  discriminant_network=discriminant_network,\\n  generative_network=generative_network,\\n  valid_inputs=[macro_valid, firm_valid],\\n  valid_returns=return_valid,\\n  valid_discriminant=discriminant_network_valid,\\n  discriminant_epochs=100,\\n  generative_epochs=100,\\n  gan_epochs=100,\\n  verbose_interval=10,\\n  min_epochs=10,\\n  patience=5000,\\n  load_weights=[True, True, True],\\n  save_weights=[False, False, False]\\n)\\n\\n# %%\\n# Loss for train\\nsdf_train = discriminant_network([macro_train, firm_train])\\n\\nsharpe_loss_train = gan.sharpe_loss(sdf_train)\\n\\nlogging.debug(f\\\"GAN Trained train SHARPE loss: {sharpe_loss_train}\\\")\\n\\n# %%\\n# Loss for valid\\nsdf_valid = discriminant_network_valid([macro_valid, firm_valid])\\n\\nsharpe_loss_valid = gan.sharpe_loss(sdf_valid)\\n\\nlogging.debug(f\\\"GAN Trained valid SHARPE loss: {sharpe_loss_valid}\\\")\\n\\n# %%\\n# Loss for test\\ndiscriminant_network_test.set_weights(\\n  discriminant_network.get_weights()\\n)\\n\\nsdf_test = discriminant_network_test([macro_test, firm_test])\\n\\nsharpe_loss_test = gan.sharpe_loss(sdf_test)\\n\\nlogging.debug(f\\\"GAN Trained test SHARPE loss: {sharpe_loss_test}\\\")\\n\\n# %%\\n# compute beta\\ny = firm_valid[:, 53, 0]\\nmask = y != -99.99\\nX = discriminant_network_valid([macro_valid, firm_valid]).numpy()\\ny = y[mask]\\nX = np.squeeze(X[mask])\\nX = sm.add_constant(X)\\n\\ny.shape, X.shape\\n\\n# %%\\nresults = sm.OLS(y, X).fit()\\nresults.summary()\\n\\n# %%\\nX = discriminant_network([macro_train, firm_train]).numpy()\\nX = np.squeeze(X)\\nX = sm.add_constant(X)\\nall_results = []\\nfor index in range(firm_train.shape[1]):\\n  y = firm_train[:, index, 0]\\n  mask = y != -99.99\\n  result = sm.OLS(y[mask], sm.add_constant(X[mask])).fit()\\n  all_results.append(result.params)\\nnp.mean(list(map(lambda x: x[0], all_results)))\\n\\n# %%\\n# check if the weights are within (0, 1)\\nsdf_weights = keras.Model(\\n  discriminant_network.inputs,\\n  discriminant_network.get_layer(\\\"sdf_w\\\").output\\n)\\nweights = sdf_weights([macro_train, firm_train]).numpy()\\n\\npd.DataFrame(weights).describe()\\n\"}}, \"id\": 1}\n"
     ]
    }
   ],
   "source": [
    "# import library\n",
    "from IPython.display import Image, display\n",
    "import logging\n",
    "import importlib\n",
    "\n",
    "import numpy as np\n",
    "import pandas as pd\n",
    "import statsmodels.api as sm\n",
    "import tensorflow as tf\n",
    "import tensorflow.keras as keras\n",
    "from tensorflow.keras.utils import model_to_dot\n",
    "\n",
    "import models.gan as gan\n",
    "importlib.reload(gan)\n",
    "\n",
    "logging.basicConfig(level=logging.DEBUG)\n",
    "\n",
    "# set seed for TensorFlow\n",
    "tf.random.set_seed(20220102)\n",
    "\n",
    "############################\n",
    "# Test if GPU is available #\n",
    "############################\n",
    "gpus = tf.config.list_physical_devices(\"GPU\")\n",
    "\n",
    "if gpus:\n",
    "    print(gpus)\n",
    "else:\n",
    "    raise Exception(\"No GPU\")"
   ]
  },
  {
   "cell_type": "code",
   "execution_count": 19,
   "id": "38e57e19",
   "metadata": {},
   "outputs": [],
   "source": [
    "# view pydot\n",
    "def view_pydot(pdot):\n",
    "    plt = Image(pdot.create_png())\n",
    "    display(plt)"
   ]
  },
  {
   "cell_type": "code",
   "execution_count": 20,
   "id": "96f1d221",
   "metadata": {},
   "outputs": [
    {
     "name": "stdout",
     "output_type": "stream",
     "text": [
      "macro train shape: (240, 178)\n",
      "firm train shape: (240, 3686, 46)\n",
      "macro valid shape: (60, 178)\n",
      "firm valid shape: (60, 3347, 46)\n",
      "macro test shape: (300, 178)\n",
      "firm test shape: (300, 7141, 46)\n"
     ]
    }
   ],
   "source": [
    "# load data\n",
    "path = \"../datasets\"\n",
    "\n",
    "# training data\n",
    "macro_train_zip = np.load(f\"{path}/macro/macro_train.npz\")\n",
    "firm_train_zip = np.load(f\"{path}/char/Char_train.npz\")\n",
    "macro_train = macro_train_zip[\"data\"]\n",
    "firm_train = firm_train_zip[\"data\"]\n",
    "return_train = firm_train[:, :, 0]\n",
    "firm_train = firm_train[:, :, 1:]\n",
    "\n",
    "# validation data\n",
    "macro_valid_zip = np.load(f\"{path}/macro/macro_valid.npz\")\n",
    "firm_valid_zip = np.load(f\"{path}/char/Char_valid.npz\")\n",
    "macro_valid = macro_valid_zip[\"data\"]\n",
    "firm_valid = firm_valid_zip[\"data\"]\n",
    "return_valid = firm_valid[:, :, 0]\n",
    "firm_valid = firm_valid[:, :, 1:]\n",
    "\n",
    "# test data\n",
    "macro_test_zip = np.load(f\"{path}/macro/macro_test.npz\")\n",
    "firm_test_zip = np.load(f\"{path}/char/Char_test.npz\")\n",
    "macro_test = macro_test_zip[\"data\"]\n",
    "firm_test = firm_test_zip[\"data\"]\n",
    "return_test = firm_test[:, :, 0]\n",
    "firm_test = firm_test[:, :, 1:]\n",
    "\n",
    "print(f\"macro train shape: {macro_train.shape}\")\n",
    "print(f\"firm train shape: {firm_train.shape}\")\n",
    "print(f\"macro valid shape: {macro_valid.shape}\")\n",
    "print(f\"firm valid shape: {firm_valid.shape}\")\n",
    "print(f\"macro test shape: {macro_test.shape}\")\n",
    "print(f\"firm test shape: {firm_test.shape}\")"
   ]
  },
  {
   "cell_type": "code",
   "execution_count": 21,
   "id": "5f6151a7",
   "metadata": {},
   "outputs": [],
   "source": [
    "# remove zip files\n",
    "del macro_train_zip, firm_train_zip\n",
    "del macro_valid_zip, firm_valid_zip\n",
    "del macro_test_zip, firm_test_zip"
   ]
  },
  {
   "cell_type": "code",
   "execution_count": 22,
   "id": "6fcacdc6",
   "metadata": {
    "scrolled": false
   },
   "outputs": [
    {
     "name": "stdout",
     "output_type": "stream",
     "text": [
      "macro shape: (178, 1)\n",
      "firm shape: (3686, 46)\n",
      "network output shape: (240, 1)\n",
      "Model: \"discriminant_network\"\n",
      "__________________________________________________________________________________________________\n",
      "Layer (type)                    Output Shape         Param #     Connected to                     \n",
      "==================================================================================================\n",
      "macro_input (InputLayer)        [(None, 178, 1)]     0                                            \n",
      "__________________________________________________________________________________________________\n",
      "macro_dropout (Dropout)         (None, 178, 1)       0           macro_input[0][0]                \n",
      "__________________________________________________________________________________________________\n",
      "macro_lstm (LSTM)               (None, 4)            96          macro_dropout[0][0]              \n",
      "__________________________________________________________________________________________________\n",
      "expand_dim (Lambda)             (None, 1, 4)         0           macro_lstm[0][0]                 \n",
      "__________________________________________________________________________________________________\n",
      "firm_input (InputLayer)         [(None, 3686, 46)]   0                                            \n",
      "__________________________________________________________________________________________________\n",
      "macro_output (Lambda)           (None, 3686, 4)      0           expand_dim[0][0]                 \n",
      "__________________________________________________________________________________________________\n",
      "combined_input (Concatenate)    (None, 3686, 50)     0           firm_input[0][0]                 \n",
      "                                                                 macro_output[0][0]               \n",
      "__________________________________________________________________________________________________\n",
      "masked_input (Lambda)           (None, 50)           0           combined_input[0][0]             \n",
      "__________________________________________________________________________________________________\n",
      "dense1 (Dense)                  (None, 64)           3264        masked_input[0][0]               \n",
      "__________________________________________________________________________________________________\n",
      "dropout1 (Dropout)              (None, 64)           0           dense1[0][0]                     \n",
      "__________________________________________________________________________________________________\n",
      "dense2 (Dense)                  (None, 64)           4160        dropout1[0][0]                   \n",
      "__________________________________________________________________________________________________\n",
      "dropout2 (Dropout)              (None, 64)           0           dense2[0][0]                     \n",
      "__________________________________________________________________________________________________\n",
      "sdf_w (Dense)                   (None, 1)            65          dropout2[0][0]                   \n",
      "__________________________________________________________________________________________________\n",
      "sdf (Lambda)                    (240, 1)             0           sdf_w[0][0]                      \n",
      "==================================================================================================\n",
      "Total params: 7,585\n",
      "Trainable params: 7,585\n",
      "Non-trainable params: 0\n",
      "__________________________________________________________________________________________________\n",
      "network output shape: (8, 240, 3686)\n",
      "Model: \"generative_network\"\n",
      "__________________________________________________________________________________________________\n",
      "Layer (type)                    Output Shape         Param #     Connected to                     \n",
      "==================================================================================================\n",
      "macro_input (InputLayer)        [(None, 178, 1)]     0                                            \n",
      "__________________________________________________________________________________________________\n",
      "macro_dropout (Dropout)         (None, 178, 1)       0           macro_input[0][0]                \n",
      "__________________________________________________________________________________________________\n",
      "macro_lstm (LSTM)               (None, 32)           4352        macro_dropout[0][0]              \n",
      "__________________________________________________________________________________________________\n",
      "expand_dim (Lambda)             (None, 1, 32)        0           macro_lstm[0][0]                 \n",
      "__________________________________________________________________________________________________\n",
      "firm_input (InputLayer)         [(None, 3686, 46)]   0                                            \n",
      "__________________________________________________________________________________________________\n",
      "macro_output (Lambda)           (None, 3686, 32)     0           expand_dim[0][0]                 \n",
      "__________________________________________________________________________________________________\n",
      "combined_input (Concatenate)    (None, 3686, 78)     0           firm_input[0][0]                 \n",
      "                                                                 macro_output[0][0]               \n",
      "__________________________________________________________________________________________________\n",
      "moments_dropout (Dropout)       (None, 3686, 78)     0           combined_input[0][0]             \n",
      "__________________________________________________________________________________________________\n",
      "moments_g (Dense)               (None, 3686, 8)      632         moments_dropout[0][0]            \n",
      "__________________________________________________________________________________________________\n",
      "transpose (Lambda)              (8, None, 3686)      0           moments_g[0][0]                  \n",
      "==================================================================================================\n",
      "Total params: 4,984\n",
      "Trainable params: 4,984\n",
      "Non-trainable params: 0\n",
      "__________________________________________________________________________________________________\n"
     ]
    }
   ],
   "source": [
    "# Hyper-parameters (train)\n",
    "_macro_feature = macro_train.shape[1]\n",
    "_num_firms = firm_train.shape[1]\n",
    "_num_chars = firm_train.shape[2]\n",
    "macro_shape = (_macro_feature, 1, )\n",
    "firm_shape = (_num_firms, _num_chars, )\n",
    "\n",
    "print(f\"macro shape: {macro_shape}\")\n",
    "print(f\"firm shape: {firm_shape}\")\n",
    "\n",
    "macro_network = gan.create_macro_network(\n",
    "    macro_shape=macro_shape,\n",
    "    num_firms=_num_firms,\n",
    "    name=\"discriminant_macro\",\n",
    "    LSTM_units=4\n",
    ")\n",
    "\n",
    "discriminant_network = gan.create_discriminant_network(\n",
    "    firm_shape=firm_shape,\n",
    "    macro_network=macro_network,\n",
    "    returns=return_train\n",
    ")\n",
    "\n",
    "print(f\"\"\"network output shape: {discriminant_network(\n",
    "    [macro_train, firm_train]).shape}\"\"\")\n",
    "discriminant_network.summary()\n",
    "\n",
    "generative_macro = gan.create_macro_network(\n",
    "    macro_shape=macro_shape,\n",
    "    num_firms=_num_firms,\n",
    "    name=\"generative_macro\",\n",
    "    LSTM_units=32\n",
    ")\n",
    "\n",
    "generative_network = gan.create_generative_network(\n",
    "    firm_shape=firm_shape,\n",
    "    macro_network=generative_macro\n",
    ")\n",
    "\n",
    "print(f\"\"\"network output shape: {generative_network(\n",
    "    [macro_train, firm_train]).shape}\"\"\")\n",
    "generative_network.summary()"
   ]
  },
  {
   "cell_type": "code",
   "execution_count": 23,
   "id": "3cf74d01",
   "metadata": {
    "scrolled": false
   },
   "outputs": [
    {
     "data": {
      "image/png": "[encoded data removed]",
      "text/plain": [
       "<IPython.core.display.Image object>"
      ]
     },
     "metadata": {},
     "output_type": "display_data"
    },
    {
     "data": {
      "image/png": "[encoded data removed]",
      "text/plain": [
       "<IPython.core.display.Image object>"
      ]
     },
     "metadata": {},
     "output_type": "display_data"
    }
   ],
   "source": [
    "view_pydot(model_to_dot(discriminant_network))\n",
    "view_pydot(model_to_dot(generative_network))"
   ]
  },
  {
   "cell_type": "code",
   "execution_count": 24,
   "id": "5b66a376",
   "metadata": {},
   "outputs": [
    {
     "name": "stdout",
     "output_type": "stream",
     "text": [
      "macro shape: (178, 1)\n",
      "firm shape: (3347, 46)\n",
      "network output shape: (60, 1)\n",
      "Model: \"discriminant_network\"\n",
      "__________________________________________________________________________________________________\n",
      "Layer (type)                    Output Shape         Param #     Connected to                     \n",
      "==================================================================================================\n",
      "macro_input (InputLayer)        [(None, 178, 1)]     0                                            \n",
      "__________________________________________________________________________________________________\n",
      "macro_dropout (Dropout)         (None, 178, 1)       0           macro_input[0][0]                \n",
      "__________________________________________________________________________________________________\n",
      "macro_lstm (LSTM)               (None, 4)            96          macro_dropout[0][0]              \n",
      "__________________________________________________________________________________________________\n",
      "expand_dim (Lambda)             (None, 1, 4)         0           macro_lstm[0][0]                 \n",
      "__________________________________________________________________________________________________\n",
      "firm_input (InputLayer)         [(None, 3686, 46)]   0                                            \n",
      "__________________________________________________________________________________________________\n",
      "macro_output (Lambda)           (None, 3686, 4)      0           expand_dim[0][0]                 \n",
      "__________________________________________________________________________________________________\n",
      "combined_input (Concatenate)    (None, 3686, 50)     0           firm_input[0][0]                 \n",
      "                                                                 macro_output[0][0]               \n",
      "__________________________________________________________________________________________________\n",
      "masked_input (Lambda)           (None, 50)           0           combined_input[0][0]             \n",
      "__________________________________________________________________________________________________\n",
      "dense1 (Dense)                  (None, 64)           3264        masked_input[0][0]               \n",
      "__________________________________________________________________________________________________\n",
      "dropout1 (Dropout)              (None, 64)           0           dense1[0][0]                     \n",
      "__________________________________________________________________________________________________\n",
      "dense2 (Dense)                  (None, 64)           4160        dropout1[0][0]                   \n",
      "__________________________________________________________________________________________________\n",
      "dropout2 (Dropout)              (None, 64)           0           dense2[0][0]                     \n",
      "__________________________________________________________________________________________________\n",
      "sdf_w (Dense)                   (None, 1)            65          dropout2[0][0]                   \n",
      "__________________________________________________________________________________________________\n",
      "sdf (Lambda)                    (240, 1)             0           sdf_w[0][0]                      \n",
      "==================================================================================================\n",
      "Total params: 7,585\n",
      "Trainable params: 7,585\n",
      "Non-trainable params: 0\n",
      "__________________________________________________________________________________________________\n"
     ]
    }
   ],
   "source": [
    "# Hyper-parameters (valid)\n",
    "_macro_feature = macro_valid.shape[1]\n",
    "_num_firms = firm_valid.shape[1]\n",
    "_num_chars = firm_valid.shape[2]\n",
    "macro_shape = (_macro_feature, 1, )\n",
    "firm_shape = (_num_firms, _num_chars, )\n",
    "\n",
    "print(f\"macro shape: {macro_shape}\")\n",
    "print(f\"firm shape: {firm_shape}\")\n",
    "\n",
    "macro_network_valid = gan.create_macro_network(\n",
    "    macro_shape=macro_shape,\n",
    "    num_firms=_num_firms,\n",
    "    name=\"discriminant_macro_valid\",\n",
    "    LSTM_units=4\n",
    ")\n",
    "\n",
    "discriminant_network_valid = gan.create_discriminant_network(\n",
    "    firm_shape=firm_shape,\n",
    "    macro_network=macro_network_valid,\n",
    "    returns=return_valid\n",
    ")\n",
    "\n",
    "print(f\"\"\"network output shape: {discriminant_network_valid(\n",
    "    [macro_valid, firm_valid]).shape}\"\"\")\n",
    "discriminant_network.summary()"
   ]
  },
  {
   "cell_type": "code",
   "execution_count": 25,
   "id": "44ea7c99",
   "metadata": {
    "scrolled": false
   },
   "outputs": [
    {
     "name": "stdout",
     "output_type": "stream",
     "text": [
      "macro shape: (178, 1)\n",
      "firm shape: (7141, 46)\n",
      "network output shape: (300, 1)\n",
      "Model: \"discriminant_network\"\n",
      "__________________________________________________________________________________________________\n",
      "Layer (type)                    Output Shape         Param #     Connected to                     \n",
      "==================================================================================================\n",
      "macro_input (InputLayer)        [(None, 178, 1)]     0                                            \n",
      "__________________________________________________________________________________________________\n",
      "macro_dropout (Dropout)         (None, 178, 1)       0           macro_input[0][0]                \n",
      "__________________________________________________________________________________________________\n",
      "macro_lstm (LSTM)               (None, 4)            96          macro_dropout[0][0]              \n",
      "__________________________________________________________________________________________________\n",
      "expand_dim (Lambda)             (None, 1, 4)         0           macro_lstm[0][0]                 \n",
      "__________________________________________________________________________________________________\n",
      "firm_input (InputLayer)         [(None, 3686, 46)]   0                                            \n",
      "__________________________________________________________________________________________________\n",
      "macro_output (Lambda)           (None, 3686, 4)      0           expand_dim[0][0]                 \n",
      "__________________________________________________________________________________________________\n",
      "combined_input (Concatenate)    (None, 3686, 50)     0           firm_input[0][0]                 \n",
      "                                                                 macro_output[0][0]               \n",
      "__________________________________________________________________________________________________\n",
      "masked_input (Lambda)           (None, 50)           0           combined_input[0][0]             \n",
      "__________________________________________________________________________________________________\n",
      "dense1 (Dense)                  (None, 64)           3264        masked_input[0][0]               \n",
      "__________________________________________________________________________________________________\n",
      "dropout1 (Dropout)              (None, 64)           0           dense1[0][0]                     \n",
      "__________________________________________________________________________________________________\n",
      "dense2 (Dense)                  (None, 64)           4160        dropout1[0][0]                   \n",
      "__________________________________________________________________________________________________\n",
      "dropout2 (Dropout)              (None, 64)           0           dense2[0][0]                     \n",
      "__________________________________________________________________________________________________\n",
      "sdf_w (Dense)                   (None, 1)            65          dropout2[0][0]                   \n",
      "__________________________________________________________________________________________________\n",
      "sdf (Lambda)                    (240, 1)             0           sdf_w[0][0]                      \n",
      "==================================================================================================\n",
      "Total params: 7,585\n",
      "Trainable params: 7,585\n",
      "Non-trainable params: 0\n",
      "__________________________________________________________________________________________________\n"
     ]
    }
   ],
   "source": [
    "# Hyper-parameters (test)\n",
    "_macro_feature = macro_test.shape[1]\n",
    "_num_firms = firm_test.shape[1]\n",
    "_num_chars = firm_test.shape[2]\n",
    "macro_shape = (_macro_feature, 1, )\n",
    "firm_shape = (_num_firms, _num_chars, )\n",
    "\n",
    "print(f\"macro shape: {macro_shape}\")\n",
    "print(f\"firm shape: {firm_shape}\")\n",
    "\n",
    "macro_network_test = gan.create_macro_network(\n",
    "    macro_shape=macro_shape,\n",
    "    num_firms=_num_firms,\n",
    "    name=\"discriminant_macro_test\",\n",
    "    LSTM_units=4\n",
    ")\n",
    "\n",
    "discriminant_network_test = gan.create_discriminant_network(\n",
    "    firm_shape=firm_shape,\n",
    "    macro_network=macro_network_test,\n",
    "    returns=return_test\n",
    ")\n",
    "\n",
    "print(f\"\"\"network output shape: {discriminant_network_test(\n",
    "    [macro_test, firm_test]).shape}\"\"\")\n",
    "discriminant_network.summary()"
   ]
  },
  {
   "cell_type": "code",
   "execution_count": 26,
   "id": "759bde46",
   "metadata": {
    "scrolled": false
   },
   "outputs": [
    {
     "data": {
      "text/plain": [
       "<tf.Tensor: shape=(336113, 1), dtype=float32, numpy=\n",
       "array([[-0.05219324],\n",
       "       [-0.547615  ],\n",
       "       [-0.16527045],\n",
       "       ...,\n",
       "       [-0.4082939 ],\n",
       "       [-0.25757986],\n",
       "       [-0.16618699]], dtype=float32)>"
      ]
     },
     "execution_count": 26,
     "metadata": {},
     "output_type": "execute_result"
    }
   ],
   "source": [
    "weight_model = keras.Model(\n",
    "    inputs=discriminant_network.inputs,\n",
    "    outputs=discriminant_network.get_layer(\"sdf_w\").output\n",
    ")\n",
    "\n",
    "weight_model([macro_train, firm_train])"
   ]
  },
  {
   "cell_type": "code",
   "execution_count": 27,
   "id": "eb8614e7",
   "metadata": {
    "scrolled": false
   },
   "outputs": [
    {
     "name": "stderr",
     "output_type": "stream",
     "text": [
      "DEBUG:root:Initial Pricing loss: 0.06841019541025162\n",
      "DEBUG:root:Initial SHARPE loss: -0.1100139170885086\n"
     ]
    }
   ],
   "source": [
    "sdf = discriminant_network([macro_train, firm_train])\n",
    "moment = generative_network([macro_train, firm_train])\n",
    "\n",
    "loss = gan.PricingLoss(\n",
    "    sdf=sdf,\n",
    "    moment=moment,\n",
    "    returns=return_train\n",
    ")\n",
    "\n",
    "shape_loss = gan.sharpe_loss(sdf)\n",
    "\n",
    "logging.debug(f\"Initial Pricing loss: {loss}\")\n",
    "logging.debug(f\"Initial SHARPE loss: {shape_loss}\")"
   ]
  },
  {
   "cell_type": "code",
   "execution_count": 28,
   "id": "9739d28f",
   "metadata": {
    "scrolled": false
   },
   "outputs": [
    {
     "name": "stderr",
     "output_type": "stream",
     "text": [
      "INFO:root:Loaded Discriminant weights\n"
     ]
    },
    {
     "name": "stdout",
     "output_type": "stream",
     "text": [
      "Discriminant epoch 0: Mis-Pricing (train): 0.000025; SHARPE (train): 0.255551; SHARPE (valid): 0.217807\n",
      "Discriminant epoch 10: Mis-Pricing (train): 0.004519; SHARPE (train): 0.440854; SHARPE (valid): 0.363989\n",
      "Discriminant epoch 20: Mis-Pricing (train): 0.001251; SHARPE (train): 0.457917; SHARPE (valid): 0.374471\n",
      "Discriminant epoch 30: Mis-Pricing (train): 0.000024; SHARPE (train): 0.667023; SHARPE (valid): 0.521892\n",
      "Discriminant epoch 40: Mis-Pricing (train): 0.000095; SHARPE (train): 0.874889; SHARPE (valid): 0.579007\n",
      "Discriminant epoch 50: Mis-Pricing (train): 0.000107; SHARPE (train): 0.922851; SHARPE (valid): 0.574718\n",
      "Discriminant epoch 60: Mis-Pricing (train): 0.000065; SHARPE (train): 0.929456; SHARPE (valid): 0.574506\n",
      "Discriminant epoch 70: Mis-Pricing (train): 0.000041; SHARPE (train): 0.878004; SHARPE (valid): 0.587902\n",
      "Discriminant epoch 80: Mis-Pricing (train): 0.000034; SHARPE (train): 0.869192; SHARPE (valid): 0.593319\n",
      "Discriminant epoch 90: Mis-Pricing (train): 0.000033; SHARPE (train): 0.894387; SHARPE (valid): 0.598902\n",
      "Discriminant epoch 100: Mis-Pricing (train): 0.000036; SHARPE (train): 0.897692; SHARPE (valid): 0.604939\n",
      "Total Discriminant training epochs 52\n"
     ]
    },
    {
     "name": "stderr",
     "output_type": "stream",
     "text": [
      "INFO:root:Loaded Generative weights\n"
     ]
    },
    {
     "name": "stdout",
     "output_type": "stream",
     "text": [
      "Generative epoch 0: Mis-Pricing (train): 1.496927; \n",
      "Generative epoch 10: Mis-Pricing (train): 1.527503; \n",
      "Generative epoch 20: Mis-Pricing (train): 1.562276; \n",
      "Generative epoch 30: Mis-Pricing (train): 1.594481; \n",
      "Generative epoch 40: Mis-Pricing (train): 1.629458; \n",
      "Generative epoch 50: Mis-Pricing (train): 1.659799; \n",
      "Generative epoch 60: Mis-Pricing (train): 1.690860; \n",
      "Generative epoch 70: Mis-Pricing (train): 1.720501; \n",
      "Generative epoch 80: Mis-Pricing (train): 1.747656; \n",
      "Generative epoch 90: Mis-Pricing (train): 1.774808; \n"
     ]
    },
    {
     "name": "stderr",
     "output_type": "stream",
     "text": [
      "INFO:root:Loaded Discriminant GAN weights\n",
      "INFO:root:Loaded Generative GAN weights\n"
     ]
    },
    {
     "name": "stdout",
     "output_type": "stream",
     "text": [
      "Generative epoch 100: Mis-Pricing (train): 1.798559; \n",
      "Total Generative training epochs 100\n",
      "GAN epoch 0: Mis-Pricing (train): 0.011009; SHARPE (train): 1.022647; SHARPE (valid): 0.534149\n",
      "GAN epoch 10: Mis-Pricing (train): 0.252074; SHARPE (train): 1.214609; SHARPE (valid): 0.901521\n",
      "GAN epoch 20: Mis-Pricing (train): 0.118209; SHARPE (train): 1.464901; SHARPE (valid): 1.054854\n",
      "GAN epoch 30: Mis-Pricing (train): 0.035615; SHARPE (train): 1.896691; SHARPE (valid): 1.229786\n",
      "GAN epoch 40: Mis-Pricing (train): 0.039885; SHARPE (train): 2.165524; SHARPE (valid): 1.238718\n",
      "GAN epoch 50: Mis-Pricing (train): 0.036695; SHARPE (train): 2.242541; SHARPE (valid): 1.187765\n",
      "GAN epoch 60: Mis-Pricing (train): 0.030532; SHARPE (train): 2.205806; SHARPE (valid): 1.169000\n",
      "GAN epoch 70: Mis-Pricing (train): 0.024567; SHARPE (train): 2.195568; SHARPE (valid): 1.165536\n",
      "GAN epoch 80: Mis-Pricing (train): 0.021473; SHARPE (train): 2.207322; SHARPE (valid): 1.168022\n",
      "GAN epoch 90: Mis-Pricing (train): 0.019051; SHARPE (train): 2.203174; SHARPE (valid): 1.186322\n",
      "GAN epoch 100: Mis-Pricing (train): 0.017897; SHARPE (train): 2.233701; SHARPE (valid): 1.195342\n",
      "Total GAN training epochs 0\n"
     ]
    }
   ],
   "source": [
    "lr_schedule = keras.optimizers.schedules.ExponentialDecay(\n",
    "    initial_learning_rate=0.001,\n",
    "    decay_steps=10000,\n",
    "    decay_rate=0.9\n",
    ")\n",
    "optimizer = keras.optimizers.Adam(learning_rate=0.001)\n",
    "gan.train(\n",
    "    inputs=[macro_train, firm_train],\n",
    "    returns=return_train,\n",
    "    optimizer=optimizer,\n",
    "    discriminant_network=discriminant_network,\n",
    "    generative_network=generative_network,\n",
    "    valid_inputs=[macro_valid, firm_valid],\n",
    "    valid_returns=return_valid,\n",
    "    valid_discriminant=discriminant_network_valid,\n",
    "    discriminant_epochs=100,\n",
    "    generative_epochs=100,\n",
    "    gan_epochs=100,\n",
    "    verbose_interval=10,\n",
    "    min_epochs=10,\n",
    "    patience=5000,\n",
    "    load_weights=[True, True, True],\n",
    "    save_weights=[False, False, False]\n",
    ")"
   ]
  },
  {
   "cell_type": "code",
   "execution_count": 29,
   "id": "d895d8da",
   "metadata": {},
   "outputs": [
    {
     "name": "stderr",
     "output_type": "stream",
     "text": [
      "DEBUG:root:GAN Trained train SHARPE loss: 2.233700752258301\n"
     ]
    }
   ],
   "source": [
    "# Loss for train\n",
    "sdf_train = discriminant_network([macro_train, firm_train])\n",
    "\n",
    "sharpe_loss_train = gan.sharpe_loss(sdf_train)\n",
    "\n",
    "logging.debug(f\"GAN Trained train SHARPE loss: {sharpe_loss_train}\")"
   ]
  },
  {
   "cell_type": "code",
   "execution_count": 30,
   "id": "2cf87913",
   "metadata": {},
   "outputs": [
    {
     "name": "stderr",
     "output_type": "stream",
     "text": [
      "DEBUG:root:GAN Trained valid SHARPE loss: 1.1953423023223877\n"
     ]
    }
   ],
   "source": [
    "# Loss for valid\n",
    "sdf_valid = discriminant_network_valid([macro_valid, firm_valid])\n",
    "\n",
    "sharpe_loss_valid = gan.sharpe_loss(sdf_valid)\n",
    "\n",
    "logging.debug(f\"GAN Trained valid SHARPE loss: {sharpe_loss_valid}\")"
   ]
  },
  {
   "cell_type": "code",
   "execution_count": 31,
   "id": "3da8eb2e",
   "metadata": {},
   "outputs": [
    {
     "name": "stderr",
     "output_type": "stream",
     "text": [
      "DEBUG:root:GAN Trained test SHARPE loss: 0.5893049240112305\n"
     ]
    }
   ],
   "source": [
    "# Loss for test\n",
    "discriminant_network_test.set_weights(\n",
    "    discriminant_network.get_weights()\n",
    ")\n",
    "\n",
    "sdf_test = discriminant_network_test([macro_test, firm_test])\n",
    "\n",
    "sharpe_loss_test = gan.sharpe_loss(sdf_test)\n",
    "\n",
    "logging.debug(f\"GAN Trained test SHARPE loss: {sharpe_loss_test}\")"
   ]
  },
  {
   "cell_type": "code",
   "execution_count": 32,
   "id": "bf1871dd",
   "metadata": {},
   "outputs": [
    {
     "data": {
      "text/plain": [
       "((8,), (8, 2))"
      ]
     },
     "execution_count": 32,
     "metadata": {},
     "output_type": "execute_result"
    }
   ],
   "source": [
    "# compute beta\n",
    "y = firm_valid[:, 53, 0]\n",
    "mask = y != -99.99\n",
    "X = discriminant_network_valid([macro_valid, firm_valid]).numpy()\n",
    "y = y[mask]\n",
    "X = np.squeeze(X[mask])\n",
    "X = sm.add_constant(X)\n",
    "\n",
    "y.shape, X.shape"
   ]
  },
  {
   "cell_type": "code",
   "execution_count": 33,
   "id": "5e96ba90",
   "metadata": {},
   "outputs": [
    {
     "name": "stderr",
     "output_type": "stream",
     "text": [
      "/home/ling/miniconda3/envs/ap_tf2/lib/python3.9/site-packages/scipy/stats/stats.py:1541: UserWarning: kurtosistest only valid for n>=20 ... continuing anyway, n=8\n",
      "  warnings.warn(\"kurtosistest only valid for n>=20 ... continuing \"\n"
     ]
    },
    {
     "data": {
      "text/html": [
       "<table class=\"simpletable\">\n",
       "<caption>OLS Regression Results</caption>\n",
       "<tr>\n",
       "  <th>Dep. Variable:</th>            <td>y</td>        <th>  R-squared:         </th> <td>   0.043</td>\n",
       "</tr>\n",
       "<tr>\n",
       "  <th>Model:</th>                   <td>OLS</td>       <th>  Adj. R-squared:    </th> <td>  -0.117</td>\n",
       "</tr>\n",
       "<tr>\n",
       "  <th>Method:</th>             <td>Least Squares</td>  <th>  F-statistic:       </th> <td>  0.2692</td>\n",
       "</tr>\n",
       "<tr>\n",
       "  <th>Date:</th>             <td>Wed, 12 Jan 2022</td> <th>  Prob (F-statistic):</th>  <td> 0.622</td> \n",
       "</tr>\n",
       "<tr>\n",
       "  <th>Time:</th>                 <td>10:12:50</td>     <th>  Log-Likelihood:    </th> <td>  12.533</td>\n",
       "</tr>\n",
       "<tr>\n",
       "  <th>No. Observations:</th>      <td>     8</td>      <th>  AIC:               </th> <td>  -21.07</td>\n",
       "</tr>\n",
       "<tr>\n",
       "  <th>Df Residuals:</th>          <td>     6</td>      <th>  BIC:               </th> <td>  -20.91</td>\n",
       "</tr>\n",
       "<tr>\n",
       "  <th>Df Model:</th>              <td>     1</td>      <th>                     </th>     <td> </td>   \n",
       "</tr>\n",
       "<tr>\n",
       "  <th>Covariance Type:</th>      <td>nonrobust</td>    <th>                     </th>     <td> </td>   \n",
       "</tr>\n",
       "</table>\n",
       "<table class=\"simpletable\">\n",
       "<tr>\n",
       "    <td></td>       <th>coef</th>     <th>std err</th>      <th>t</th>      <th>P>|t|</th>  <th>[0.025</th>    <th>0.975]</th>  \n",
       "</tr>\n",
       "<tr>\n",
       "  <th>const</th> <td>    0.4075</td> <td>    0.027</td> <td>   15.117</td> <td> 0.000</td> <td>    0.342</td> <td>    0.473</td>\n",
       "</tr>\n",
       "<tr>\n",
       "  <th>x1</th>    <td>    0.0183</td> <td>    0.035</td> <td>    0.519</td> <td> 0.622</td> <td>   -0.068</td> <td>    0.105</td>\n",
       "</tr>\n",
       "</table>\n",
       "<table class=\"simpletable\">\n",
       "<tr>\n",
       "  <th>Omnibus:</th>       <td> 2.939</td> <th>  Durbin-Watson:     </th> <td>   0.924</td>\n",
       "</tr>\n",
       "<tr>\n",
       "  <th>Prob(Omnibus):</th> <td> 0.230</td> <th>  Jarque-Bera (JB):  </th> <td>   1.580</td>\n",
       "</tr>\n",
       "<tr>\n",
       "  <th>Skew:</th>          <td>-1.031</td> <th>  Prob(JB):          </th> <td>   0.454</td>\n",
       "</tr>\n",
       "<tr>\n",
       "  <th>Kurtosis:</th>      <td> 2.299</td> <th>  Cond. No.          </th> <td>    2.27</td>\n",
       "</tr>\n",
       "</table><br/><br/>Notes:<br/>[1] Standard Errors assume that the covariance matrix of the errors is correctly specified."
      ],
      "text/plain": [
       "<class 'statsmodels.iolib.summary.Summary'>\n",
       "\"\"\"\n",
       "                            OLS Regression Results                            \n",
       "==============================================================================\n",
       "Dep. Variable:                      y   R-squared:                       0.043\n",
       "Model:                            OLS   Adj. R-squared:                 -0.117\n",
       "Method:                 Least Squares   F-statistic:                    0.2692\n",
       "Date:                Wed, 12 Jan 2022   Prob (F-statistic):              0.622\n",
       "Time:                        10:12:50   Log-Likelihood:                 12.533\n",
       "No. Observations:                   8   AIC:                            -21.07\n",
       "Df Residuals:                       6   BIC:                            -20.91\n",
       "Df Model:                           1                                         \n",
       "Covariance Type:            nonrobust                                         \n",
       "==============================================================================\n",
       "                 coef    std err          t      P>|t|      [0.025      0.975]\n",
       "------------------------------------------------------------------------------\n",
       "const          0.4075      0.027     15.117      0.000       0.342       0.473\n",
       "x1             0.0183      0.035      0.519      0.622      -0.068       0.105\n",
       "==============================================================================\n",
       "Omnibus:                        2.939   Durbin-Watson:                   0.924\n",
       "Prob(Omnibus):                  0.230   Jarque-Bera (JB):                1.580\n",
       "Skew:                          -1.031   Prob(JB):                        0.454\n",
       "Kurtosis:                       2.299   Cond. No.                         2.27\n",
       "==============================================================================\n",
       "\n",
       "Notes:\n",
       "[1] Standard Errors assume that the covariance matrix of the errors is correctly specified.\n",
       "\"\"\""
      ]
     },
     "execution_count": 33,
     "metadata": {},
     "output_type": "execute_result"
    }
   ],
   "source": [
    "results = sm.OLS(y, X).fit()\n",
    "results.summary()"
   ]
  },
  {
   "cell_type": "code",
   "execution_count": 34,
   "id": "ed8b250a",
   "metadata": {},
   "outputs": [
    {
     "data": {
      "text/plain": [
       "0.005679303767881673"
      ]
     },
     "execution_count": 34,
     "metadata": {},
     "output_type": "execute_result"
    },
    {
     "name": "stderr",
     "output_type": "stream",
     "text": [
      "INFO:jsonrpcserver.dispatcher.request:{\"jsonrpc\": \"2.0\", \"method\": \"SyncRequest\", \"params\": {\"data\": {\"file_name\": \"/home/ling/projects/thesis/asset_pricing/gan_model.sync.py\", \"contents\": \"# %%\\n# import library\\nfrom IPython.display import Image, display\\nimport logging\\nimport importlib\\n\\nimport numpy as np\\nimport statsmodels.api as sm\\nimport tensorflow as tf\\nimport tensorflow.keras as keras\\nfrom tensorflow.keras.utils import model_to_dot\\n\\nimport models.gan as gan\\nimportlib.reload(gan)\\n\\nlogging.basicConfig(level=logging.DEBUG)\\n\\n# set seed for TensorFlow\\ntf.random.set_seed(20220102)\\n\\n############################\\n# Test if GPU is available #\\n############################\\ngpus = tf.config.list_physical_devices(\\\"GPU\\\")\\n\\nif gpus:\\n  print(gpus)\\nelse:\\n  raise Exception(\\\"No GPU\\\")\\n\\n\\n# %%\\n# view pydot\\ndef view_pydot(pdot):\\n  plt = Image(pdot.create_png())\\n  display(plt)\\n\\n\\n# %%\\n# load data\\npath = \\\"../datasets\\\"\\n\\n# training data\\nmacro_train_zip = np.load(f\\\"{path}/macro/macro_train.npz\\\")\\nfirm_train_zip = np.load(f\\\"{path}/char/Char_train.npz\\\")\\nmacro_train = macro_train_zip[\\\"data\\\"]\\nfirm_train = firm_train_zip[\\\"data\\\"]\\nreturn_train = firm_train[:, :, 0]\\nfirm_train = firm_train[:, :, 1:]\\n\\n# validation data\\nmacro_valid_zip = np.load(f\\\"{path}/macro/macro_valid.npz\\\")\\nfirm_valid_zip = np.load(f\\\"{path}/char/Char_valid.npz\\\")\\nmacro_valid = macro_valid_zip[\\\"data\\\"]\\nfirm_valid = firm_valid_zip[\\\"data\\\"]\\nreturn_valid = firm_valid[:, :, 0]\\nfirm_valid = firm_valid[:, :, 1:]\\n\\n# test data\\nmacro_test_zip = np.load(f\\\"{path}/macro/macro_test.npz\\\")\\nfirm_test_zip = np.load(f\\\"{path}/char/Char_test.npz\\\")\\nmacro_test = macro_test_zip[\\\"data\\\"]\\nfirm_test = firm_test_zip[\\\"data\\\"]\\nreturn_test = firm_test[:, :, 0]\\nfirm_test = firm_test[:, :, 1:]\\n\\nprint(f\\\"macro train shape: {macro_train.shape}\\\")\\nprint(f\\\"firm train shape: {firm_train.shape}\\\")\\nprint(f\\\"macro valid shape: {macro_valid.shape}\\\")\\nprint(f\\\"firm valid shape: {firm_valid.shape}\\\")\\nprint(f\\\"macro test shape: {macro_test.shape}\\\")\\nprint(f\\\"firm test shape: {firm_test.shape}\\\")\\n\\n# %%\\n# remove zip files\\ndel macro_train_zip, firm_train_zip\\ndel macro_valid_zip, firm_valid_zip\\ndel macro_test_zip, firm_test_zip\\n\\n# %%\\n# Hyper-parameters (train)\\n_macro_feature = macro_train.shape[1]\\n_num_firms = firm_train.shape[1]\\n_num_chars = firm_train.shape[2]\\nmacro_shape = (_macro_feature, 1, )\\nfirm_shape = (_num_firms, _num_chars, )\\n\\nprint(f\\\"macro shape: {macro_shape}\\\")\\nprint(f\\\"firm shape: {firm_shape}\\\")\\n\\nmacro_network = gan.create_macro_network(\\n  macro_shape=macro_shape,\\n  num_firms=_num_firms,\\n  name=\\\"discriminant_macro\\\",\\n  LSTM_units=4\\n)\\n\\ndiscriminant_network = gan.create_discriminant_network(\\n  firm_shape=firm_shape,\\n  macro_network=macro_network,\\n  returns=return_train\\n)\\n\\nprint(f\\\"\\\"\\\"network output shape: {discriminant_network(\\n  [macro_train, firm_train]).shape}\\\"\\\"\\\")\\ndiscriminant_network.summary()\\n\\ngenerative_macro = gan.create_macro_network(\\n  macro_shape=macro_shape,\\n  num_firms=_num_firms,\\n  name=\\\"generative_macro\\\",\\n  LSTM_units=32\\n)\\n\\ngenerative_network = gan.create_generative_network(\\n  firm_shape=firm_shape,\\n  macro_network=generative_macro\\n)\\n\\nprint(f\\\"\\\"\\\"network output shape: {generative_network(\\n  [macro_train, firm_train]).shape}\\\"\\\"\\\")\\ngenerative_network.summary()\\n\\n# %%\\nview_pydot(model_to_dot(discriminant_network))\\nview_pydot(model_to_dot(generative_network))\\n\\n\\n# %%\\n# Hyper-parameters (valid)\\n_macro_feature = macro_valid.shape[1]\\n_num_firms = firm_valid.shape[1]\\n_num_chars = firm_valid.shape[2]\\nmacro_shape = (_macro_feature, 1, )\\nfirm_shape = (_num_firms, _num_chars, )\\n\\nprint(f\\\"macro shape: {macro_shape}\\\")\\nprint(f\\\"firm shape: {firm_shape}\\\")\\n\\nmacro_network_valid = gan.create_macro_network(\\n  macro_shape=macro_shape,\\n  num_firms=_num_firms,\\n  name=\\\"discriminant_macro_valid\\\",\\n  LSTM_units=4\\n)\\n\\ndiscriminant_network_valid = gan.create_discriminant_network(\\n  firm_shape=firm_shape,\\n  macro_network=macro_network_valid,\\n  returns=return_valid\\n)\\n\\nprint(f\\\"\\\"\\\"network output shape: {discriminant_network_valid(\\n  [macro_valid, firm_valid]).shape}\\\"\\\"\\\")\\ndiscriminant_network.summary()\\n\\n# %%\\n# Hyper-parameters (test)\\n_macro_feature = macro_test.shape[1]\\n_num_firms = firm_test.shape[1]\\n_num_chars = firm_test.shape[2]\\nmacro_shape = (_macro_feature, 1, )\\nfirm_shape = (_num_firms, _num_chars, )\\n\\nprint(f\\\"macro shape: {macro_shape}\\\")\\nprint(f\\\"firm shape: {firm_shape}\\\")\\n\\nmacro_network_test = gan.create_macro_network(\\n  macro_shape=macro_shape,\\n  num_firms=_num_firms,\\n  name=\\\"discriminant_macro_test\\\",\\n  LSTM_units=4\\n)\\n\\ndiscriminant_network_test = gan.create_discriminant_network(\\n  firm_shape=firm_shape,\\n  macro_network=macro_network_test,\\n  returns=return_test\\n)\\n\\nprint(f\\\"\\\"\\\"network output shape: {discriminant_network_test(\\n  [macro_test, firm_test]).shape}\\\"\\\"\\\")\\ndiscriminant_network.summary()\\n\\n# %%\\nweight_model = keras.Model(\\n  inputs=discriminant_network.inputs,\\n  outputs=discriminant_network.get_layer(\\\"sdf_w\\\").output\\n)\\n\\nweight_model([macro_train, firm_train])\\n\\n# %%\\nsdf = discriminant_network([macro_train, firm_train])\\nmoment = generative_network([macro_train, firm_train])\\n\\nloss = gan.PricingLoss(\\n  sdf=sdf,\\n  moment=moment,\\n  returns=return_train\\n)\\n\\nshape_loss = gan.sharpe_loss(sdf)\\n\\nlogging.debug(f\\\"Initial Pricing loss: {loss}\\\")\\nlogging.debug(f\\\"Initial SHARPE loss: {shape_loss}\\\")\\n\\n# %%\\nlr_schedule = keras.optimizers.schedules.ExponentialDecay(\\n  initial_learning_rate=0.001,\\n  decay_steps=10000,\\n  decay_rate=0.9\\n)\\noptimizer = keras.optimizers.Adam(learning_rate=0.001)\\ngan.train(\\n  inputs=[macro_train, firm_train],\\n  returns=return_train,\\n  optimizer=optimizer,\\n  discriminant_network=discriminant_network,\\n  generative_network=generative_network,\\n  valid_inputs=[macro_valid, firm_valid],\\n  valid_returns=return_valid,\\n  valid_discriminant=discriminant_network_valid,\\n  discriminant_epochs=100,\\n  generative_epochs=100,\\n  gan_epochs=100,\\n  verbose_interval=10,\\n  min_epochs=10,\\n  patience=5000,\\n  load_weights=[True, True, True],\\n  save_weights=[False, False, False]\\n)\\n\\n# %%\\n# Loss for train\\nsdf_train = discriminant_network([macro_train, firm_train])\\n\\nsharpe_loss_train = gan.sharpe_loss(sdf_train)\\n\\nlogging.debug(f\\\"GAN Trained train SHARPE loss: {sharpe_loss_train}\\\")\\n\\n# %%\\n# Loss for valid\\nsdf_valid = discriminant_network_valid([macro_valid, firm_valid])\\n\\nsharpe_loss_valid = gan.sharpe_loss(sdf_valid)\\n\\nlogging.debug(f\\\"GAN Trained valid SHARPE loss: {sharpe_loss_valid}\\\")\\n\\n# %%\\n# Loss for test\\ndiscriminant_network_test.set_weights(\\n  discriminant_network.get_weights()\\n)\\n\\nsdf_test = discriminant_network_test([macro_test, firm_test])\\n\\nsharpe_loss_test = gan.sharpe_loss(sdf_test)\\n\\nlogging.debug(f\\\"GAN Trained test SHARPE loss: {sharpe_loss_test}\\\")\\n\\n# %%\\n# compute beta\\ny = firm_valid[:, 53, 0]\\nmask = y != -99.99\\nX = discriminant_network_valid([macro_valid, firm_valid]).numpy()\\ny = y[mask]\\nX = np.squeeze(X[mask])\\nX = sm.add_constant(X)\\n\\ny.shape, X.shape\\n\\n# %%\\nresults = sm.OLS(y, X).fit()\\nresults.summary()\\n\\n# %%\\nX = discriminant_network([macro_train, firm_train]).numpy()\\nX = np.squeeze(X)\\nX = sm.add_constant(X)\\nall_results = []\\nfor index in range(firm_train.shape[1]):\\n  y = firm_train[:, index, 0]\\n  mask = y != -99.99\\n  result = sm.OLS(y[mask], sm.add_constant(X[mask])).fit()\\n  all_results.append(result.params)\\nnp.mean(list(map(lambda x: x[0], all_results)))\\n\\n# %%\\n# check if the weights are within (0, 1)\\nsdf_weights = keras.Model(\\n  discriminant_network.inputs,\\n  discriminant_network.get_layer(\\\"sdf_w\\\")\\n)\\n\"}}, \"id\": 1}\n"
     ]
    }
   ],
   "source": [
    "X = discriminant_network([macro_train, firm_train]).numpy()\n",
    "X = np.squeeze(X)\n",
    "X = sm.add_constant(X)\n",
    "all_results = []\n",
    "for index in range(firm_train.shape[1]):\n",
    "    y = firm_train[:, index, 0]\n",
    "    mask = y != -99.99\n",
    "    result = sm.OLS(y[mask], sm.add_constant(X[mask])).fit()\n",
    "    all_results.append(result.params)\n",
    "np.mean(list(map(lambda x: x[0], all_results)))"
   ]
  },
  {
   "cell_type": "code",
   "execution_count": 43,
   "id": "fefa838f",
   "metadata": {
    "scrolled": true
   },
   "outputs": [
    {
     "data": {
      "text/html": [
       "<div>\n",
       "<style scoped>\n",
       "    .dataframe tbody tr th:only-of-type {\n",
       "        vertical-align: middle;\n",
       "    }\n",
       "\n",
       "    .dataframe tbody tr th {\n",
       "        vertical-align: top;\n",
       "    }\n",
       "\n",
       "    .dataframe thead th {\n",
       "        text-align: right;\n",
       "    }\n",
       "</style>\n",
       "<table border=\"1\" class=\"dataframe\">\n",
       "  <thead>\n",
       "    <tr style=\"text-align: right;\">\n",
       "      <th></th>\n",
       "      <th>0</th>\n",
       "    </tr>\n",
       "  </thead>\n",
       "  <tbody>\n",
       "    <tr>\n",
       "      <th>count</th>\n",
       "      <td>336113.000000</td>\n",
       "    </tr>\n",
       "    <tr>\n",
       "      <th>mean</th>\n",
       "      <td>0.002631</td>\n",
       "    </tr>\n",
       "    <tr>\n",
       "      <th>std</th>\n",
       "      <td>0.037540</td>\n",
       "    </tr>\n",
       "    <tr>\n",
       "      <th>min</th>\n",
       "      <td>-0.294893</td>\n",
       "    </tr>\n",
       "    <tr>\n",
       "      <th>25%</th>\n",
       "      <td>-0.013354</td>\n",
       "    </tr>\n",
       "    <tr>\n",
       "      <th>50%</th>\n",
       "      <td>0.006031</td>\n",
       "    </tr>\n",
       "    <tr>\n",
       "      <th>75%</th>\n",
       "      <td>0.022864</td>\n",
       "    </tr>\n",
       "    <tr>\n",
       "      <th>max</th>\n",
       "      <td>0.336885</td>\n",
       "    </tr>\n",
       "  </tbody>\n",
       "</table>\n",
       "</div>"
      ],
      "text/plain": [
       "                   0\n",
       "count  336113.000000\n",
       "mean        0.002631\n",
       "std         0.037540\n",
       "min        -0.294893\n",
       "25%        -0.013354\n",
       "50%         0.006031\n",
       "75%         0.022864\n",
       "max         0.336885"
      ]
     },
     "execution_count": 43,
     "metadata": {},
     "output_type": "execute_result"
    }
   ],
   "source": [
    "# check if the weights are within (0, 1)\n",
    "sdf_weights = keras.Model(\n",
    "    discriminant_network.inputs,\n",
    "    discriminant_network.get_layer(\"sdf_w\").output\n",
    ")\n",
    "weights = sdf_weights([macro_train, firm_train]).numpy()\n",
    "\n",
    "pd.DataFrame(weights).describe()"
   ]
  }
 ],
 "metadata": {
  "kernelspec": {
   "display_name": "Python 3",
   "language": "python",
   "name": "python3"
  },
  "language_info": {
   "codemirror_mode": {
    "name": "ipython",
    "version": 3
   },
   "file_extension": ".py",
   "mimetype": "text/x-python",
   "name": "python",
   "nbconvert_exporter": "python",
   "pygments_lexer": "ipython3",
   "version": "3.9.0"
  }
 },
 "nbformat": 4,
 "nbformat_minor": 5
}
