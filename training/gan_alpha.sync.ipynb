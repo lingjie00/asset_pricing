{
 "cells": [
  {
   "cell_type": "code",
   "execution_count": 1,
   "id": "50bff940",
   "metadata": {},
   "outputs": [],
   "source": [
    "\"\"\"Library\"\"\"\n",
    "import matplotlib.pyplot as plt\n",
    "import pandas as pd\n",
    "from common import (alpha_beta, data_path, date_col, missing_code, price_col,\n",
    "                    projectpath, symbol_col)"
   ]
  },
  {
   "cell_type": "code",
   "execution_count": 2,
   "id": "e053eaf5",
   "metadata": {},
   "outputs": [
    {
     "data": {
      "text/html": [
       "<div>\n",
       "<style scoped>\n",
       "    .dataframe tbody tr th:only-of-type {\n",
       "        vertical-align: middle;\n",
       "    }\n",
       "\n",
       "    .dataframe tbody tr th {\n",
       "        vertical-align: top;\n",
       "    }\n",
       "\n",
       "    .dataframe thead th {\n",
       "        text-align: right;\n",
       "    }\n",
       "</style>\n",
       "<table border=\"1\" class=\"dataframe\">\n",
       "  <thead>\n",
       "    <tr style=\"text-align: right;\">\n",
       "      <th></th>\n",
       "      <th></th>\n",
       "      <th>excess_returns</th>\n",
       "      <th>hml</th>\n",
       "      <th>r12_7</th>\n",
       "      <th>r2_1</th>\n",
       "      <th>rmrf</th>\n",
       "      <th>smb</th>\n",
       "      <th>umd</th>\n",
       "    </tr>\n",
       "    <tr>\n",
       "      <th>symbol</th>\n",
       "      <th>date</th>\n",
       "      <th></th>\n",
       "      <th></th>\n",
       "      <th></th>\n",
       "      <th></th>\n",
       "      <th></th>\n",
       "      <th></th>\n",
       "      <th></th>\n",
       "    </tr>\n",
       "  </thead>\n",
       "  <tbody>\n",
       "    <tr>\n",
       "      <th rowspan=\"5\" valign=\"top\">3IN</th>\n",
       "      <th>2008-04-30</th>\n",
       "      <td>0.024058</td>\n",
       "      <td>0.009833</td>\n",
       "      <td>0.011650</td>\n",
       "      <td>0.031747</td>\n",
       "      <td>0.058589</td>\n",
       "      <td>-0.049409</td>\n",
       "      <td>0.068718</td>\n",
       "    </tr>\n",
       "    <tr>\n",
       "      <th>2008-05-31</th>\n",
       "      <td>0.008577</td>\n",
       "      <td>-0.029344</td>\n",
       "      <td>0.003494</td>\n",
       "      <td>0.024058</td>\n",
       "      <td>-0.006106</td>\n",
       "      <td>-0.010052</td>\n",
       "      <td>0.044772</td>\n",
       "    </tr>\n",
       "    <tr>\n",
       "      <th>2008-06-30</th>\n",
       "      <td>-0.014719</td>\n",
       "      <td>-0.027738</td>\n",
       "      <td>0.006356</td>\n",
       "      <td>0.008577</td>\n",
       "      <td>-0.074837</td>\n",
       "      <td>-0.024877</td>\n",
       "      <td>0.135133</td>\n",
       "    </tr>\n",
       "    <tr>\n",
       "      <th>2008-07-31</th>\n",
       "      <td>-0.006258</td>\n",
       "      <td>-0.069655</td>\n",
       "      <td>0.047877</td>\n",
       "      <td>-0.014719</td>\n",
       "      <td>-0.040168</td>\n",
       "      <td>0.016760</td>\n",
       "      <td>0.001473</td>\n",
       "    </tr>\n",
       "    <tr>\n",
       "      <th>2008-08-31</th>\n",
       "      <td>-0.079115</td>\n",
       "      <td>-0.001523</td>\n",
       "      <td>0.099332</td>\n",
       "      <td>-0.006258</td>\n",
       "      <td>0.045881</td>\n",
       "      <td>-0.006549</td>\n",
       "      <td>-0.095469</td>\n",
       "    </tr>\n",
       "  </tbody>\n",
       "</table>\n",
       "</div>"
      ],
      "text/plain": [
       "                   excess_returns       hml     r12_7      r2_1      rmrf  \\\n",
       "symbol date                                                                 \n",
       "3IN    2008-04-30        0.024058  0.009833  0.011650  0.031747  0.058589   \n",
       "       2008-05-31        0.008577 -0.029344  0.003494  0.024058 -0.006106   \n",
       "       2008-06-30       -0.014719 -0.027738  0.006356  0.008577 -0.074837   \n",
       "       2008-07-31       -0.006258 -0.069655  0.047877 -0.014719 -0.040168   \n",
       "       2008-08-31       -0.079115 -0.001523  0.099332 -0.006258  0.045881   \n",
       "\n",
       "                        smb       umd  \n",
       "symbol date                            \n",
       "3IN    2008-04-30 -0.049409  0.068718  \n",
       "       2008-05-31 -0.010052  0.044772  \n",
       "       2008-06-30 -0.024877  0.135133  \n",
       "       2008-07-31  0.016760  0.001473  \n",
       "       2008-08-31 -0.006549 -0.095469  "
      ]
     },
     "execution_count": 2,
     "metadata": {},
     "output_type": "execute_result"
    }
   ],
   "source": [
    "select = \"factor\"\n",
    "with_macro = True\n",
    "\n",
    "\"\"\"Load data\"\"\"\n",
    "data = pd.read_csv(data_path[select])\n",
    "data[date_col] = pd.to_datetime(data[date_col])\n",
    "data = data.set_index([symbol_col, date_col])\\\n",
    "    .replace(missing_code, float(\"NaN\"))\\\n",
    "    .astype(\"float\")\n",
    "\n",
    "data.dropna().head()"
   ]
  },
  {
   "cell_type": "code",
   "execution_count": 3,
   "id": "8c776242",
   "metadata": {},
   "outputs": [
    {
     "data": {
      "text/html": [
       "<div>\n",
       "<style scoped>\n",
       "    .dataframe tbody tr th:only-of-type {\n",
       "        vertical-align: middle;\n",
       "    }\n",
       "\n",
       "    .dataframe tbody tr th {\n",
       "        vertical-align: top;\n",
       "    }\n",
       "\n",
       "    .dataframe thead th {\n",
       "        text-align: right;\n",
       "    }\n",
       "</style>\n",
       "<table border=\"1\" class=\"dataframe\">\n",
       "  <thead>\n",
       "    <tr style=\"text-align: right;\">\n",
       "      <th></th>\n",
       "      <th>sdf</th>\n",
       "    </tr>\n",
       "    <tr>\n",
       "      <th>date</th>\n",
       "      <th></th>\n",
       "    </tr>\n",
       "  </thead>\n",
       "  <tbody>\n",
       "    <tr>\n",
       "      <th>1998-01-31</th>\n",
       "      <td>-0.060436</td>\n",
       "    </tr>\n",
       "    <tr>\n",
       "      <th>1998-02-28</th>\n",
       "      <td>1.096662</td>\n",
       "    </tr>\n",
       "    <tr>\n",
       "      <th>1998-03-31</th>\n",
       "      <td>1.027546</td>\n",
       "    </tr>\n",
       "    <tr>\n",
       "      <th>1998-04-30</th>\n",
       "      <td>0.193612</td>\n",
       "    </tr>\n",
       "    <tr>\n",
       "      <th>1998-05-31</th>\n",
       "      <td>1.025856</td>\n",
       "    </tr>\n",
       "  </tbody>\n",
       "</table>\n",
       "</div>"
      ],
      "text/plain": [
       "                 sdf\n",
       "date                \n",
       "1998-01-31 -0.060436\n",
       "1998-02-28  1.096662\n",
       "1998-03-31  1.027546\n",
       "1998-04-30  0.193612\n",
       "1998-05-31  1.025856"
      ]
     },
     "execution_count": 3,
     "metadata": {},
     "output_type": "execute_result"
    }
   ],
   "source": [
    "sdf = pd.read_csv(\n",
    "    f\"{projectpath}/data/results/sdf_uk_{select}_macro_{with_macro}.csv\"\n",
    ")\n",
    "sdf[\"date\"] = pd.to_datetime(sdf[\"date\"])\n",
    "sdf = sdf.set_index(\"date\")\n",
    "sdf = 1 - sdf\n",
    "\n",
    "sdf.dropna().head()"
   ]
  },
  {
   "cell_type": "code",
   "execution_count": 4,
   "id": "fe3ff22c",
   "metadata": {},
   "outputs": [
    {
     "data": {
      "text/html": [
       "<div>\n",
       "<style scoped>\n",
       "    .dataframe tbody tr th:only-of-type {\n",
       "        vertical-align: middle;\n",
       "    }\n",
       "\n",
       "    .dataframe tbody tr th {\n",
       "        vertical-align: top;\n",
       "    }\n",
       "\n",
       "    .dataframe thead th {\n",
       "        text-align: right;\n",
       "    }\n",
       "</style>\n",
       "<table border=\"1\" class=\"dataframe\">\n",
       "  <thead>\n",
       "    <tr style=\"text-align: right;\">\n",
       "      <th></th>\n",
       "      <th>sdf</th>\n",
       "    </tr>\n",
       "  </thead>\n",
       "  <tbody>\n",
       "    <tr>\n",
       "      <th>count</th>\n",
       "      <td>240.000000</td>\n",
       "    </tr>\n",
       "    <tr>\n",
       "      <th>mean</th>\n",
       "      <td>0.615177</td>\n",
       "    </tr>\n",
       "    <tr>\n",
       "      <th>std</th>\n",
       "      <td>0.329119</td>\n",
       "    </tr>\n",
       "    <tr>\n",
       "      <th>min</th>\n",
       "      <td>-0.060436</td>\n",
       "    </tr>\n",
       "    <tr>\n",
       "      <th>25%</th>\n",
       "      <td>0.351075</td>\n",
       "    </tr>\n",
       "    <tr>\n",
       "      <th>50%</th>\n",
       "      <td>0.563673</td>\n",
       "    </tr>\n",
       "    <tr>\n",
       "      <th>75%</th>\n",
       "      <td>0.859845</td>\n",
       "    </tr>\n",
       "    <tr>\n",
       "      <th>max</th>\n",
       "      <td>1.525673</td>\n",
       "    </tr>\n",
       "  </tbody>\n",
       "</table>\n",
       "</div>"
      ],
      "text/plain": [
       "              sdf\n",
       "count  240.000000\n",
       "mean     0.615177\n",
       "std      0.329119\n",
       "min     -0.060436\n",
       "25%      0.351075\n",
       "50%      0.563673\n",
       "75%      0.859845\n",
       "max      1.525673"
      ]
     },
     "execution_count": 4,
     "metadata": {},
     "output_type": "execute_result"
    }
   ],
   "source": [
    "sdf.describe()"
   ]
  },
  {
   "cell_type": "code",
   "execution_count": 5,
   "id": "f12f5bb6",
   "metadata": {},
   "outputs": [
    {
     "data": {
      "text/html": [
       "<div>\n",
       "<style scoped>\n",
       "    .dataframe tbody tr th:only-of-type {\n",
       "        vertical-align: middle;\n",
       "    }\n",
       "\n",
       "    .dataframe tbody tr th {\n",
       "        vertical-align: top;\n",
       "    }\n",
       "\n",
       "    .dataframe thead th {\n",
       "        text-align: right;\n",
       "    }\n",
       "</style>\n",
       "<table border=\"1\" class=\"dataframe\">\n",
       "  <thead>\n",
       "    <tr style=\"text-align: right;\">\n",
       "      <th></th>\n",
       "      <th></th>\n",
       "      <th>excess_returns</th>\n",
       "      <th>sdf</th>\n",
       "    </tr>\n",
       "    <tr>\n",
       "      <th>symbol</th>\n",
       "      <th>date</th>\n",
       "      <th></th>\n",
       "      <th></th>\n",
       "    </tr>\n",
       "  </thead>\n",
       "  <tbody>\n",
       "    <tr>\n",
       "      <th rowspan=\"5\" valign=\"top\">3IN</th>\n",
       "      <th>2008-04-30</th>\n",
       "      <td>0.024058</td>\n",
       "      <td>1.063621</td>\n",
       "    </tr>\n",
       "    <tr>\n",
       "      <th>2008-05-31</th>\n",
       "      <td>0.008577</td>\n",
       "      <td>0.615354</td>\n",
       "    </tr>\n",
       "    <tr>\n",
       "      <th>2008-06-30</th>\n",
       "      <td>-0.014719</td>\n",
       "      <td>0.671074</td>\n",
       "    </tr>\n",
       "    <tr>\n",
       "      <th>2008-07-31</th>\n",
       "      <td>-0.006258</td>\n",
       "      <td>0.448058</td>\n",
       "    </tr>\n",
       "    <tr>\n",
       "      <th>2008-08-31</th>\n",
       "      <td>-0.079115</td>\n",
       "      <td>0.484201</td>\n",
       "    </tr>\n",
       "  </tbody>\n",
       "</table>\n",
       "</div>"
      ],
      "text/plain": [
       "                   excess_returns       sdf\n",
       "symbol date                                \n",
       "3IN    2008-04-30        0.024058  1.063621\n",
       "       2008-05-31        0.008577  0.615354\n",
       "       2008-06-30       -0.014719  0.671074\n",
       "       2008-07-31       -0.006258  0.448058\n",
       "       2008-08-31       -0.079115  0.484201"
      ]
     },
     "execution_count": 5,
     "metadata": {},
     "output_type": "execute_result"
    }
   ],
   "source": [
    "data = data.combine_first(sdf)\n",
    "data = data[[price_col, \"sdf\"]]\n",
    "\n",
    "data.dropna().head()"
   ]
  },
  {
   "cell_type": "code",
   "execution_count": 6,
   "id": "1458c580",
   "metadata": {},
   "outputs": [
    {
     "data": {
      "text/html": [
       "<div>\n",
       "<style scoped>\n",
       "    .dataframe tbody tr th:only-of-type {\n",
       "        vertical-align: middle;\n",
       "    }\n",
       "\n",
       "    .dataframe tbody tr th {\n",
       "        vertical-align: top;\n",
       "    }\n",
       "\n",
       "    .dataframe thead th {\n",
       "        text-align: right;\n",
       "    }\n",
       "</style>\n",
       "<table border=\"1\" class=\"dataframe\">\n",
       "  <thead>\n",
       "    <tr style=\"text-align: right;\">\n",
       "      <th></th>\n",
       "      <th>sdf</th>\n",
       "      <th>train_intercept</th>\n",
       "      <th>valid_intercept</th>\n",
       "      <th>test_intercept</th>\n",
       "    </tr>\n",
       "  </thead>\n",
       "  <tbody>\n",
       "    <tr>\n",
       "      <th>3IN</th>\n",
       "      <td>0.036509</td>\n",
       "      <td>-0.019423</td>\n",
       "      <td>0.007330</td>\n",
       "      <td>0.007330</td>\n",
       "    </tr>\n",
       "    <tr>\n",
       "      <th>888</th>\n",
       "      <td>0.030991</td>\n",
       "      <td>-0.012212</td>\n",
       "      <td>0.005527</td>\n",
       "      <td>0.005527</td>\n",
       "    </tr>\n",
       "    <tr>\n",
       "      <th>88E</th>\n",
       "      <td>-0.287193</td>\n",
       "      <td>0.126863</td>\n",
       "      <td>0.041079</td>\n",
       "      <td>0.041079</td>\n",
       "    </tr>\n",
       "    <tr>\n",
       "      <th>AAIF</th>\n",
       "      <td>-0.004439</td>\n",
       "      <td>0.008813</td>\n",
       "      <td>-0.002573</td>\n",
       "      <td>-0.002573</td>\n",
       "    </tr>\n",
       "    <tr>\n",
       "      <th>AAL</th>\n",
       "      <td>0.077043</td>\n",
       "      <td>-0.038074</td>\n",
       "      <td>-0.013027</td>\n",
       "      <td>-0.013027</td>\n",
       "    </tr>\n",
       "    <tr>\n",
       "      <th>...</th>\n",
       "      <td>...</td>\n",
       "      <td>...</td>\n",
       "      <td>...</td>\n",
       "      <td>...</td>\n",
       "    </tr>\n",
       "    <tr>\n",
       "      <th>ZIOC</th>\n",
       "      <td>0.168654</td>\n",
       "      <td>-0.188698</td>\n",
       "      <td>0.145515</td>\n",
       "      <td>0.145515</td>\n",
       "    </tr>\n",
       "    <tr>\n",
       "      <th>ZOL</th>\n",
       "      <td>-0.154362</td>\n",
       "      <td>0.115696</td>\n",
       "      <td>-0.049862</td>\n",
       "      <td>-0.049862</td>\n",
       "    </tr>\n",
       "    <tr>\n",
       "      <th>ZOO</th>\n",
       "      <td>-0.011473</td>\n",
       "      <td>-0.017322</td>\n",
       "      <td>0.029008</td>\n",
       "      <td>0.029008</td>\n",
       "    </tr>\n",
       "    <tr>\n",
       "      <th>ZTF</th>\n",
       "      <td>-0.017642</td>\n",
       "      <td>0.006629</td>\n",
       "      <td>0.022473</td>\n",
       "      <td>0.022473</td>\n",
       "    </tr>\n",
       "    <tr>\n",
       "      <th>ZYT</th>\n",
       "      <td>0.062995</td>\n",
       "      <td>-0.040505</td>\n",
       "      <td>0.013612</td>\n",
       "      <td>0.013612</td>\n",
       "    </tr>\n",
       "  </tbody>\n",
       "</table>\n",
       "<p>826 rows × 4 columns</p>\n",
       "</div>"
      ],
      "text/plain": [
       "           sdf  train_intercept  valid_intercept  test_intercept\n",
       "3IN   0.036509        -0.019423         0.007330        0.007330\n",
       "888   0.030991        -0.012212         0.005527        0.005527\n",
       "88E  -0.287193         0.126863         0.041079        0.041079\n",
       "AAIF -0.004439         0.008813        -0.002573       -0.002573\n",
       "AAL   0.077043        -0.038074        -0.013027       -0.013027\n",
       "...        ...              ...              ...             ...\n",
       "ZIOC  0.168654        -0.188698         0.145515        0.145515\n",
       "ZOL  -0.154362         0.115696        -0.049862       -0.049862\n",
       "ZOO  -0.011473        -0.017322         0.029008        0.029008\n",
       "ZTF  -0.017642         0.006629         0.022473        0.022473\n",
       "ZYT   0.062995        -0.040505         0.013612        0.013612\n",
       "\n",
       "[826 rows x 4 columns]"
      ]
     },
     "execution_count": 6,
     "metadata": {},
     "output_type": "execute_result"
    }
   ],
   "source": [
    "\"\"\"Alpha beta\"\"\"\n",
    "coef = alpha_beta(data)\n",
    "\n",
    "coef"
   ]
  },
  {
   "cell_type": "code",
   "execution_count": 7,
   "id": "bcb4fe95",
   "metadata": {},
   "outputs": [
    {
     "data": {
      "text/plain": [
       "count    826.000000\n",
       "mean       0.039328\n",
       "std        0.051212\n",
       "min        0.000023\n",
       "25%        0.008521\n",
       "50%        0.021529\n",
       "75%        0.049660\n",
       "max        0.610067\n",
       "Name: train_intercept, dtype: float64"
      ]
     },
     "execution_count": 7,
     "metadata": {},
     "output_type": "execute_result"
    }
   ],
   "source": [
    "coef[\"train_intercept\"].abs().describe()"
   ]
  },
  {
   "cell_type": "code",
   "execution_count": 8,
   "id": "c00e3fa7",
   "metadata": {},
   "outputs": [
    {
     "data": {
      "text/plain": [
       "count    826.000000\n",
       "mean       0.021074\n",
       "std        0.023854\n",
       "min        0.000138\n",
       "25%        0.007148\n",
       "50%        0.013696\n",
       "75%        0.025469\n",
       "max        0.216707\n",
       "Name: valid_intercept, dtype: float64"
      ]
     },
     "execution_count": 8,
     "metadata": {},
     "output_type": "execute_result"
    }
   ],
   "source": [
    "coef[\"valid_intercept\"].abs().describe()"
   ]
  },
  {
   "cell_type": "code",
   "execution_count": 9,
   "id": "6573ffa4",
   "metadata": {},
   "outputs": [
    {
     "data": {
      "text/plain": [
       "count    826.000000\n",
       "mean       0.021074\n",
       "std        0.023854\n",
       "min        0.000138\n",
       "25%        0.007148\n",
       "50%        0.013696\n",
       "75%        0.025469\n",
       "max        0.216707\n",
       "Name: test_intercept, dtype: float64"
      ]
     },
     "execution_count": 9,
     "metadata": {},
     "output_type": "execute_result"
    }
   ],
   "source": [
    "coef[\"test_intercept\"].abs().describe()"
   ]
  },
  {
   "cell_type": "code",
   "execution_count": 10,
   "id": "7dd77a1a",
   "metadata": {},
   "outputs": [
    {
     "data": {
      "text/plain": [
       "<AxesSubplot:>"
      ]
     },
     "execution_count": 10,
     "metadata": {},
     "output_type": "execute_result"
    },
    {
     "data": {
      "image/png": "[encoded data removed]",
      "text/plain": [
       "<Figure size 432x288 with 1 Axes>"
      ]
     },
     "metadata": {
      "needs_background": "light"
     },
     "output_type": "display_data"
    }
   ],
   "source": [
    "coef.drop(columns=[\"sdf\"]).boxplot()"
   ]
  },
  {
   "cell_type": "code",
   "execution_count": 11,
   "id": "1879e625",
   "metadata": {},
   "outputs": [
    {
     "data": {
      "text/plain": [
       "<matplotlib.legend.Legend at 0x7f849c4b30a0>"
      ]
     },
     "execution_count": 11,
     "metadata": {},
     "output_type": "execute_result"
    },
    {
     "data": {
      "image/png": "[encoded data removed]",
      "text/plain": [
       "<Figure size 432x288 with 1 Axes>"
      ]
     },
     "metadata": {
      "needs_background": "light"
     },
     "output_type": "display_data"
    }
   ],
   "source": [
    "coef[\"train_intercept\"].plot.kde(alpha=0.7)\n",
    "coef[\"valid_intercept\"].plot.kde(alpha=0.7)\n",
    "coef[\"test_intercept\"].plot.kde(alpha=0.7)\n",
    "plt.legend()"
   ]
  },
  {
   "cell_type": "code",
   "execution_count": 12,
   "id": "18afde0b",
   "metadata": {},
   "outputs": [],
   "source": [
    "# export results\n",
    "coef.to_csv(f\"{projectpath}/data/alpha/gan_{select}_macro_{with_macro}.csv\")"
   ]
  }
 ],
 "metadata": {
  "kernelspec": {
   "display_name": "Python 3 (ipykernel)",
   "language": "python",
   "name": "python3"
  },
  "language_info": {
   "codemirror_mode": {
    "name": "ipython",
    "version": 3
   },
   "file_extension": ".py",
   "mimetype": "text/x-python",
   "name": "python",
   "nbconvert_exporter": "python",
   "pygments_lexer": "ipython3",
   "version": "3.9.0"
  }
 },
 "nbformat": 4,
 "nbformat_minor": 5
}
