{
 "cells": [
  {
   "cell_type": "code",
   "execution_count": 1,
   "id": "50bff940",
   "metadata": {},
<<<<<<< HEAD
   "outputs": [
    {
     "name": "stderr",
     "output_type": "stream",
     "text": [
      "/home/ling/miniconda3/envs/ap_tf2/lib/python3.9/site-packages/statsmodels/tsa/base/tsa_model.py:7: FutureWarning: pandas.Int64Index is deprecated and will be removed from pandas in a future version. Use pandas.Index with the appropriate dtype instead.\n",
      "  from pandas import (to_datetime, Int64Index, DatetimeIndex, Period,\n",
      "/home/ling/miniconda3/envs/ap_tf2/lib/python3.9/site-packages/statsmodels/tsa/base/tsa_model.py:7: FutureWarning: pandas.Float64Index is deprecated and will be removed from pandas in a future version. Use pandas.Index with the appropriate dtype instead.\n",
      "  from pandas import (to_datetime, Int64Index, DatetimeIndex, Period,\n"
     ]
    }
   ],
=======
   "outputs": [],
>>>>>>> origin/uk_gan
   "source": [
    "\"\"\"Library\"\"\"\n",
    "import matplotlib.pyplot as plt\n",
    "import pandas as pd\n",
<<<<<<< HEAD
    "import statsmodels.api as sm\n",
    "from common import (data_path, date_col, missing_code, price_col, projectpath,\n",
    "                    symbol_col, train_percent, valid_percent)\n",
    "from sklearn.linear_model import LinearRegression"
=======
    "from common import (alpha_beta, data_path, date_col, missing_code, price_col,\n",
    "                    projectpath, symbol_col)"
>>>>>>> origin/uk_gan
   ]
  },
  {
   "cell_type": "code",
   "execution_count": 2,
   "id": "e053eaf5",
   "metadata": {},
   "outputs": [
    {
     "data": {
      "text/html": [
       "<div>\n",
       "<style scoped>\n",
       "    .dataframe tbody tr th:only-of-type {\n",
       "        vertical-align: middle;\n",
       "    }\n",
       "\n",
       "    .dataframe tbody tr th {\n",
       "        vertical-align: top;\n",
       "    }\n",
       "\n",
       "    .dataframe thead th {\n",
       "        text-align: right;\n",
       "    }\n",
       "</style>\n",
       "<table border=\"1\" class=\"dataframe\">\n",
       "  <thead>\n",
       "    <tr style=\"text-align: right;\">\n",
       "      <th></th>\n",
       "      <th></th>\n",
       "      <th>excess_returns</th>\n",
       "      <th>hml</th>\n",
       "      <th>r12_7</th>\n",
       "      <th>r2_1</th>\n",
<<<<<<< HEAD
       "      <th>rf</th>\n",
       "      <th>rm</th>\n",
=======
>>>>>>> origin/uk_gan
       "      <th>rmrf</th>\n",
       "      <th>smb</th>\n",
       "      <th>umd</th>\n",
       "    </tr>\n",
       "    <tr>\n",
       "      <th>symbol</th>\n",
       "      <th>date</th>\n",
       "      <th></th>\n",
       "      <th></th>\n",
       "      <th></th>\n",
       "      <th></th>\n",
       "      <th></th>\n",
       "      <th></th>\n",
       "      <th></th>\n",
<<<<<<< HEAD
       "      <th></th>\n",
       "      <th></th>\n",
=======
>>>>>>> origin/uk_gan
       "    </tr>\n",
       "  </thead>\n",
       "  <tbody>\n",
       "    <tr>\n",
       "      <th rowspan=\"5\" valign=\"top\">3IN</th>\n",
       "      <th>2008-04-30</th>\n",
<<<<<<< HEAD
       "      <td>0.071916</td>\n",
       "      <td>0.009833</td>\n",
       "      <td>-0.054559</td>\n",
       "      <td>0.040225</td>\n",
       "      <td>0.003991</td>\n",
       "      <td>0.062580</td>\n",
=======
       "      <td>0.024058</td>\n",
       "      <td>0.009833</td>\n",
       "      <td>0.011650</td>\n",
       "      <td>0.031747</td>\n",
>>>>>>> origin/uk_gan
       "      <td>0.058589</td>\n",
       "      <td>-0.049409</td>\n",
       "      <td>0.068718</td>\n",
       "    </tr>\n",
       "    <tr>\n",
       "      <th>2008-05-31</th>\n",
<<<<<<< HEAD
       "      <td>0.022298</td>\n",
       "      <td>-0.029344</td>\n",
       "      <td>-0.056313</td>\n",
       "      <td>0.071916</td>\n",
       "      <td>0.004108</td>\n",
       "      <td>-0.001998</td>\n",
=======
       "      <td>0.008577</td>\n",
       "      <td>-0.029344</td>\n",
       "      <td>0.003494</td>\n",
       "      <td>0.024058</td>\n",
>>>>>>> origin/uk_gan
       "      <td>-0.006106</td>\n",
       "      <td>-0.010052</td>\n",
       "      <td>0.044772</td>\n",
       "    </tr>\n",
       "    <tr>\n",
       "      <th>2008-06-30</th>\n",
<<<<<<< HEAD
       "      <td>-0.010799</td>\n",
       "      <td>-0.027738</td>\n",
       "      <td>-0.021389</td>\n",
       "      <td>0.022298</td>\n",
       "      <td>0.004159</td>\n",
       "      <td>-0.070678</td>\n",
=======
       "      <td>-0.014719</td>\n",
       "      <td>-0.027738</td>\n",
       "      <td>0.006356</td>\n",
       "      <td>0.008577</td>\n",
>>>>>>> origin/uk_gan
       "      <td>-0.074837</td>\n",
       "      <td>-0.024877</td>\n",
       "      <td>0.135133</td>\n",
       "    </tr>\n",
       "    <tr>\n",
       "      <th>2008-07-31</th>\n",
<<<<<<< HEAD
       "      <td>0.002396</td>\n",
       "      <td>-0.069655</td>\n",
       "      <td>0.077308</td>\n",
       "      <td>-0.010799</td>\n",
       "      <td>0.004134</td>\n",
       "      <td>-0.036035</td>\n",
=======
       "      <td>-0.006258</td>\n",
       "      <td>-0.069655</td>\n",
       "      <td>0.047877</td>\n",
       "      <td>-0.014719</td>\n",
>>>>>>> origin/uk_gan
       "      <td>-0.040168</td>\n",
       "      <td>0.016760</td>\n",
       "      <td>0.001473</td>\n",
       "    </tr>\n",
       "    <tr>\n",
       "      <th>2008-08-31</th>\n",
<<<<<<< HEAD
       "      <td>-0.072512</td>\n",
       "      <td>-0.001523</td>\n",
       "      <td>0.185581</td>\n",
       "      <td>0.002396</td>\n",
       "      <td>0.004025</td>\n",
       "      <td>0.049905</td>\n",
=======
       "      <td>-0.079115</td>\n",
       "      <td>-0.001523</td>\n",
       "      <td>0.099332</td>\n",
       "      <td>-0.006258</td>\n",
>>>>>>> origin/uk_gan
       "      <td>0.045881</td>\n",
       "      <td>-0.006549</td>\n",
       "      <td>-0.095469</td>\n",
       "    </tr>\n",
       "  </tbody>\n",
       "</table>\n",
       "</div>"
      ],
      "text/plain": [
<<<<<<< HEAD
       "                   excess_returns       hml     r12_7      r2_1        rf  \\\n",
       "symbol date                                                                 \n",
       "3IN    2008-04-30        0.071916  0.009833 -0.054559  0.040225  0.003991   \n",
       "       2008-05-31        0.022298 -0.029344 -0.056313  0.071916  0.004108   \n",
       "       2008-06-30       -0.010799 -0.027738 -0.021389  0.022298  0.004159   \n",
       "       2008-07-31        0.002396 -0.069655  0.077308 -0.010799  0.004134   \n",
       "       2008-08-31       -0.072512 -0.001523  0.185581  0.002396  0.004025   \n",
       "\n",
       "                         rm      rmrf       smb       umd  \n",
       "symbol date                                                \n",
       "3IN    2008-04-30  0.062580  0.058589 -0.049409  0.068718  \n",
       "       2008-05-31 -0.001998 -0.006106 -0.010052  0.044772  \n",
       "       2008-06-30 -0.070678 -0.074837 -0.024877  0.135133  \n",
       "       2008-07-31 -0.036035 -0.040168  0.016760  0.001473  \n",
       "       2008-08-31  0.049905  0.045881 -0.006549 -0.095469  "
=======
       "                   excess_returns       hml     r12_7      r2_1      rmrf  \\\n",
       "symbol date                                                                 \n",
       "3IN    2008-04-30        0.024058  0.009833  0.011650  0.031747  0.058589   \n",
       "       2008-05-31        0.008577 -0.029344  0.003494  0.024058 -0.006106   \n",
       "       2008-06-30       -0.014719 -0.027738  0.006356  0.008577 -0.074837   \n",
       "       2008-07-31       -0.006258 -0.069655  0.047877 -0.014719 -0.040168   \n",
       "       2008-08-31       -0.079115 -0.001523  0.099332 -0.006258  0.045881   \n",
       "\n",
       "                        smb       umd  \n",
       "symbol date                            \n",
       "3IN    2008-04-30 -0.049409  0.068718  \n",
       "       2008-05-31 -0.010052  0.044772  \n",
       "       2008-06-30 -0.024877  0.135133  \n",
       "       2008-07-31  0.016760  0.001473  \n",
       "       2008-08-31 -0.006549 -0.095469  "
>>>>>>> origin/uk_gan
      ]
     },
     "execution_count": 2,
     "metadata": {},
     "output_type": "execute_result"
    }
   ],
   "source": [
    "select = \"factor\"\n",
<<<<<<< HEAD
    "with_macro = False\n",
=======
    "with_macro = True\n",
>>>>>>> origin/uk_gan
    "\n",
    "\"\"\"Load data\"\"\"\n",
    "data = pd.read_csv(data_path[select])\n",
    "data[date_col] = pd.to_datetime(data[date_col])\n",
    "data = data.set_index([symbol_col, date_col])\\\n",
    "    .replace(missing_code, float(\"NaN\"))\\\n",
<<<<<<< HEAD
    "    .dropna(axis=0)\\\n",
    "    .astype(\"float\")\n",
    "\n",
    "data.head()"
=======
    "    .astype(\"float\")\n",
    "\n",
    "data.dropna().head()"
>>>>>>> origin/uk_gan
   ]
  },
  {
   "cell_type": "code",
   "execution_count": 3,
   "id": "8c776242",
   "metadata": {},
   "outputs": [
    {
     "data": {
      "text/html": [
       "<div>\n",
       "<style scoped>\n",
       "    .dataframe tbody tr th:only-of-type {\n",
       "        vertical-align: middle;\n",
       "    }\n",
       "\n",
       "    .dataframe tbody tr th {\n",
       "        vertical-align: top;\n",
       "    }\n",
       "\n",
       "    .dataframe thead th {\n",
       "        text-align: right;\n",
       "    }\n",
       "</style>\n",
       "<table border=\"1\" class=\"dataframe\">\n",
       "  <thead>\n",
       "    <tr style=\"text-align: right;\">\n",
       "      <th></th>\n",
       "      <th>sdf</th>\n",
       "    </tr>\n",
       "    <tr>\n",
       "      <th>date</th>\n",
       "      <th></th>\n",
       "    </tr>\n",
       "  </thead>\n",
       "  <tbody>\n",
       "    <tr>\n",
<<<<<<< HEAD
       "      <th>1998-03-31</th>\n",
       "      <td>0.581224</td>\n",
       "    </tr>\n",
       "    <tr>\n",
       "      <th>1998-04-30</th>\n",
       "      <td>-0.198753</td>\n",
       "    </tr>\n",
       "    <tr>\n",
       "      <th>1998-05-31</th>\n",
       "      <td>-0.036840</td>\n",
       "    </tr>\n",
       "    <tr>\n",
       "      <th>1998-06-30</th>\n",
       "      <td>0.133038</td>\n",
       "    </tr>\n",
       "    <tr>\n",
       "      <th>1998-07-31</th>\n",
       "      <td>-0.101732</td>\n",
=======
       "      <th>1998-01-31</th>\n",
       "      <td>-0.060436</td>\n",
       "    </tr>\n",
       "    <tr>\n",
       "      <th>1998-02-28</th>\n",
       "      <td>1.096662</td>\n",
       "    </tr>\n",
       "    <tr>\n",
       "      <th>1998-03-31</th>\n",
       "      <td>1.027546</td>\n",
       "    </tr>\n",
       "    <tr>\n",
       "      <th>1998-04-30</th>\n",
       "      <td>0.193612</td>\n",
       "    </tr>\n",
       "    <tr>\n",
       "      <th>1998-05-31</th>\n",
       "      <td>1.025856</td>\n",
>>>>>>> origin/uk_gan
       "    </tr>\n",
       "  </tbody>\n",
       "</table>\n",
       "</div>"
      ],
      "text/plain": [
       "                 sdf\n",
       "date                \n",
<<<<<<< HEAD
       "1998-03-31  0.581224\n",
       "1998-04-30 -0.198753\n",
       "1998-05-31 -0.036840\n",
       "1998-06-30  0.133038\n",
       "1998-07-31 -0.101732"
=======
       "1998-01-31 -0.060436\n",
       "1998-02-28  1.096662\n",
       "1998-03-31  1.027546\n",
       "1998-04-30  0.193612\n",
       "1998-05-31  1.025856"
>>>>>>> origin/uk_gan
      ]
     },
     "execution_count": 3,
     "metadata": {},
     "output_type": "execute_result"
    }
   ],
   "source": [
    "sdf = pd.read_csv(\n",
    "    f\"{projectpath}/data/results/sdf_uk_{select}_macro_{with_macro}.csv\"\n",
    ")\n",
    "sdf[\"date\"] = pd.to_datetime(sdf[\"date\"])\n",
    "sdf = sdf.set_index(\"date\")\n",
<<<<<<< HEAD
    "\n",
    "sdf.head()"
=======
    "sdf = 1 - sdf\n",
    "\n",
    "sdf.dropna().head()"
>>>>>>> origin/uk_gan
   ]
  },
  {
   "cell_type": "code",
   "execution_count": 4,
<<<<<<< HEAD
   "id": "f12f5bb6",
=======
   "id": "fe3ff22c",
>>>>>>> origin/uk_gan
   "metadata": {},
   "outputs": [
    {
     "data": {
      "text/html": [
       "<div>\n",
       "<style scoped>\n",
       "    .dataframe tbody tr th:only-of-type {\n",
       "        vertical-align: middle;\n",
       "    }\n",
       "\n",
       "    .dataframe tbody tr th {\n",
       "        vertical-align: top;\n",
       "    }\n",
       "\n",
       "    .dataframe thead th {\n",
       "        text-align: right;\n",
       "    }\n",
       "</style>\n",
       "<table border=\"1\" class=\"dataframe\">\n",
       "  <thead>\n",
       "    <tr style=\"text-align: right;\">\n",
       "      <th></th>\n",
<<<<<<< HEAD
       "      <th></th>\n",
       "      <th>excess_returns</th>\n",
       "      <th>hml</th>\n",
       "      <th>r12_7</th>\n",
       "      <th>r2_1</th>\n",
       "      <th>rf</th>\n",
       "      <th>rm</th>\n",
       "      <th>rmrf</th>\n",
       "      <th>sdf</th>\n",
       "      <th>smb</th>\n",
       "      <th>umd</th>\n",
       "    </tr>\n",
       "    <tr>\n",
       "      <th>symbol</th>\n",
       "      <th>date</th>\n",
       "      <th></th>\n",
       "      <th></th>\n",
       "      <th></th>\n",
       "      <th></th>\n",
       "      <th></th>\n",
       "      <th></th>\n",
       "      <th></th>\n",
       "      <th></th>\n",
       "      <th></th>\n",
       "      <th></th>\n",
=======
       "      <th>sdf</th>\n",
>>>>>>> origin/uk_gan
       "    </tr>\n",
       "  </thead>\n",
       "  <tbody>\n",
       "    <tr>\n",
<<<<<<< HEAD
       "      <th rowspan=\"5\" valign=\"top\">3IN</th>\n",
       "      <th>2008-04-30</th>\n",
       "      <td>0.071916</td>\n",
       "      <td>0.009833</td>\n",
       "      <td>-0.054559</td>\n",
       "      <td>0.040225</td>\n",
       "      <td>0.003991</td>\n",
       "      <td>0.062580</td>\n",
       "      <td>0.058589</td>\n",
       "      <td>0.163882</td>\n",
       "      <td>-0.049409</td>\n",
       "      <td>0.068718</td>\n",
       "    </tr>\n",
       "    <tr>\n",
       "      <th>2008-05-31</th>\n",
       "      <td>0.022298</td>\n",
       "      <td>-0.029344</td>\n",
       "      <td>-0.056313</td>\n",
       "      <td>0.071916</td>\n",
       "      <td>0.004108</td>\n",
       "      <td>-0.001998</td>\n",
       "      <td>-0.006106</td>\n",
       "      <td>-0.449918</td>\n",
       "      <td>-0.010052</td>\n",
       "      <td>0.044772</td>\n",
       "    </tr>\n",
       "    <tr>\n",
       "      <th>2008-06-30</th>\n",
       "      <td>-0.010799</td>\n",
       "      <td>-0.027738</td>\n",
       "      <td>-0.021389</td>\n",
       "      <td>0.022298</td>\n",
       "      <td>0.004159</td>\n",
       "      <td>-0.070678</td>\n",
       "      <td>-0.074837</td>\n",
       "      <td>0.088869</td>\n",
       "      <td>-0.024877</td>\n",
       "      <td>0.135133</td>\n",
       "    </tr>\n",
       "    <tr>\n",
       "      <th>2008-07-31</th>\n",
       "      <td>0.002396</td>\n",
       "      <td>-0.069655</td>\n",
       "      <td>0.077308</td>\n",
       "      <td>-0.010799</td>\n",
       "      <td>0.004134</td>\n",
       "      <td>-0.036035</td>\n",
       "      <td>-0.040168</td>\n",
       "      <td>-0.333298</td>\n",
       "      <td>0.016760</td>\n",
       "      <td>0.001473</td>\n",
       "    </tr>\n",
       "    <tr>\n",
       "      <th>2008-08-31</th>\n",
       "      <td>-0.072512</td>\n",
       "      <td>-0.001523</td>\n",
       "      <td>0.185581</td>\n",
       "      <td>0.002396</td>\n",
       "      <td>0.004025</td>\n",
       "      <td>0.049905</td>\n",
       "      <td>0.045881</td>\n",
       "      <td>0.282491</td>\n",
       "      <td>-0.006549</td>\n",
       "      <td>-0.095469</td>\n",
=======
       "      <th>count</th>\n",
       "      <td>240.000000</td>\n",
       "    </tr>\n",
       "    <tr>\n",
       "      <th>mean</th>\n",
       "      <td>0.615177</td>\n",
       "    </tr>\n",
       "    <tr>\n",
       "      <th>std</th>\n",
       "      <td>0.329119</td>\n",
       "    </tr>\n",
       "    <tr>\n",
       "      <th>min</th>\n",
       "      <td>-0.060436</td>\n",
       "    </tr>\n",
       "    <tr>\n",
       "      <th>25%</th>\n",
       "      <td>0.351075</td>\n",
       "    </tr>\n",
       "    <tr>\n",
       "      <th>50%</th>\n",
       "      <td>0.563673</td>\n",
       "    </tr>\n",
       "    <tr>\n",
       "      <th>75%</th>\n",
       "      <td>0.859845</td>\n",
       "    </tr>\n",
       "    <tr>\n",
       "      <th>max</th>\n",
       "      <td>1.525673</td>\n",
>>>>>>> origin/uk_gan
       "    </tr>\n",
       "  </tbody>\n",
       "</table>\n",
       "</div>"
      ],
      "text/plain": [
<<<<<<< HEAD
       "                   excess_returns       hml     r12_7      r2_1        rf  \\\n",
       "symbol date                                                                 \n",
       "3IN    2008-04-30        0.071916  0.009833 -0.054559  0.040225  0.003991   \n",
       "       2008-05-31        0.022298 -0.029344 -0.056313  0.071916  0.004108   \n",
       "       2008-06-30       -0.010799 -0.027738 -0.021389  0.022298  0.004159   \n",
       "       2008-07-31        0.002396 -0.069655  0.077308 -0.010799  0.004134   \n",
       "       2008-08-31       -0.072512 -0.001523  0.185581  0.002396  0.004025   \n",
       "\n",
       "                         rm      rmrf       sdf       smb       umd  \n",
       "symbol date                                                          \n",
       "3IN    2008-04-30  0.062580  0.058589  0.163882 -0.049409  0.068718  \n",
       "       2008-05-31 -0.001998 -0.006106 -0.449918 -0.010052  0.044772  \n",
       "       2008-06-30 -0.070678 -0.074837  0.088869 -0.024877  0.135133  \n",
       "       2008-07-31 -0.036035 -0.040168 -0.333298  0.016760  0.001473  \n",
       "       2008-08-31  0.049905  0.045881  0.282491 -0.006549 -0.095469  "
=======
       "              sdf\n",
       "count  240.000000\n",
       "mean     0.615177\n",
       "std      0.329119\n",
       "min     -0.060436\n",
       "25%      0.351075\n",
       "50%      0.563673\n",
       "75%      0.859845\n",
       "max      1.525673"
>>>>>>> origin/uk_gan
      ]
     },
     "execution_count": 4,
     "metadata": {},
     "output_type": "execute_result"
    }
   ],
   "source": [
<<<<<<< HEAD
    "data = data.combine_first(sdf)\n",
    "\n",
    "data.head()"
=======
    "sdf.describe()"
>>>>>>> origin/uk_gan
   ]
  },
  {
   "cell_type": "code",
   "execution_count": 5,
<<<<<<< HEAD
   "id": "7c8f8b76",
=======
   "id": "f12f5bb6",
>>>>>>> origin/uk_gan
   "metadata": {},
   "outputs": [
    {
     "data": {
      "text/html": [
<<<<<<< HEAD
       "<table class=\"simpletable\">\n",
       "<caption>OLS Regression Results</caption>\n",
       "<tr>\n",
       "  <th>Dep. Variable:</th>     <td>excess_returns</td>  <th>  R-squared:         </th> <td>   0.013</td>\n",
       "</tr>\n",
       "<tr>\n",
       "  <th>Model:</th>                   <td>OLS</td>       <th>  Adj. R-squared:    </th> <td>   0.001</td>\n",
       "</tr>\n",
       "<tr>\n",
       "  <th>Method:</th>             <td>Least Squares</td>  <th>  F-statistic:       </th> <td>   1.125</td>\n",
       "</tr>\n",
       "<tr>\n",
       "  <th>Date:</th>             <td>Wed, 23 Mar 2022</td> <th>  Prob (F-statistic):</th>  <td> 0.292</td> \n",
       "</tr>\n",
       "<tr>\n",
       "  <th>Time:</th>                 <td>22:03:14</td>     <th>  Log-Likelihood:    </th> <td>  55.583</td>\n",
       "</tr>\n",
       "<tr>\n",
       "  <th>No. Observations:</th>      <td>    90</td>      <th>  AIC:               </th> <td>  -107.2</td>\n",
       "</tr>\n",
       "<tr>\n",
       "  <th>Df Residuals:</th>          <td>    88</td>      <th>  BIC:               </th> <td>  -102.2</td>\n",
       "</tr>\n",
       "<tr>\n",
       "  <th>Df Model:</th>              <td>     1</td>      <th>                     </th>     <td> </td>   \n",
       "</tr>\n",
       "<tr>\n",
       "  <th>Covariance Type:</th>      <td>nonrobust</td>    <th>                     </th>     <td> </td>   \n",
       "</tr>\n",
       "</table>\n",
       "<table class=\"simpletable\">\n",
       "<tr>\n",
       "    <td></td>       <th>coef</th>     <th>std err</th>      <th>t</th>      <th>P>|t|</th>  <th>[0.025</th>    <th>0.975]</th>  \n",
       "</tr>\n",
       "<tr>\n",
       "  <th>sdf</th>   <td>    0.0421</td> <td>    0.040</td> <td>    1.061</td> <td> 0.292</td> <td>   -0.037</td> <td>    0.121</td>\n",
       "</tr>\n",
       "<tr>\n",
       "  <th>const</th> <td>    0.0478</td> <td>    0.016</td> <td>    3.059</td> <td> 0.003</td> <td>    0.017</td> <td>    0.079</td>\n",
       "</tr>\n",
       "</table>\n",
       "<table class=\"simpletable\">\n",
       "<tr>\n",
       "  <th>Omnibus:</th>       <td>67.701</td> <th>  Durbin-Watson:     </th> <td>   0.889</td>\n",
       "</tr>\n",
       "<tr>\n",
       "  <th>Prob(Omnibus):</th> <td> 0.000</td> <th>  Jarque-Bera (JB):  </th> <td> 317.521</td>\n",
       "</tr>\n",
       "<tr>\n",
       "  <th>Skew:</th>          <td> 2.527</td> <th>  Prob(JB):          </th> <td>1.13e-69</td>\n",
       "</tr>\n",
       "<tr>\n",
       "  <th>Kurtosis:</th>      <td>10.689</td> <th>  Cond. No.          </th> <td>    2.96</td>\n",
       "</tr>\n",
       "</table><br/><br/>Notes:<br/>[1] Standard Errors assume that the covariance matrix of the errors is correctly specified."
      ],
      "text/plain": [
       "<class 'statsmodels.iolib.summary.Summary'>\n",
       "\"\"\"\n",
       "                            OLS Regression Results                            \n",
       "==============================================================================\n",
       "Dep. Variable:         excess_returns   R-squared:                       0.013\n",
       "Model:                            OLS   Adj. R-squared:                  0.001\n",
       "Method:                 Least Squares   F-statistic:                     1.125\n",
       "Date:                Wed, 23 Mar 2022   Prob (F-statistic):              0.292\n",
       "Time:                        22:03:14   Log-Likelihood:                 55.583\n",
       "No. Observations:                  90   AIC:                            -107.2\n",
       "Df Residuals:                      88   BIC:                            -102.2\n",
       "Df Model:                           1                                         \n",
       "Covariance Type:            nonrobust                                         \n",
       "==============================================================================\n",
       "                 coef    std err          t      P>|t|      [0.025      0.975]\n",
       "------------------------------------------------------------------------------\n",
       "sdf            0.0421      0.040      1.061      0.292      -0.037       0.121\n",
       "const          0.0478      0.016      3.059      0.003       0.017       0.079\n",
       "==============================================================================\n",
       "Omnibus:                       67.701   Durbin-Watson:                   0.889\n",
       "Prob(Omnibus):                  0.000   Jarque-Bera (JB):              317.521\n",
       "Skew:                           2.527   Prob(JB):                     1.13e-69\n",
       "Kurtosis:                      10.689   Cond. No.                         2.96\n",
       "==============================================================================\n",
       "\n",
       "Notes:\n",
       "[1] Standard Errors assume that the covariance matrix of the errors is correctly specified.\n",
       "\"\"\""
=======
       "<div>\n",
       "<style scoped>\n",
       "    .dataframe tbody tr th:only-of-type {\n",
       "        vertical-align: middle;\n",
       "    }\n",
       "\n",
       "    .dataframe tbody tr th {\n",
       "        vertical-align: top;\n",
       "    }\n",
       "\n",
       "    .dataframe thead th {\n",
       "        text-align: right;\n",
       "    }\n",
       "</style>\n",
       "<table border=\"1\" class=\"dataframe\">\n",
       "  <thead>\n",
       "    <tr style=\"text-align: right;\">\n",
       "      <th></th>\n",
       "      <th></th>\n",
       "      <th>excess_returns</th>\n",
       "      <th>sdf</th>\n",
       "    </tr>\n",
       "    <tr>\n",
       "      <th>symbol</th>\n",
       "      <th>date</th>\n",
       "      <th></th>\n",
       "      <th></th>\n",
       "    </tr>\n",
       "  </thead>\n",
       "  <tbody>\n",
       "    <tr>\n",
       "      <th rowspan=\"5\" valign=\"top\">3IN</th>\n",
       "      <th>2008-04-30</th>\n",
       "      <td>0.024058</td>\n",
       "      <td>1.063621</td>\n",
       "    </tr>\n",
       "    <tr>\n",
       "      <th>2008-05-31</th>\n",
       "      <td>0.008577</td>\n",
       "      <td>0.615354</td>\n",
       "    </tr>\n",
       "    <tr>\n",
       "      <th>2008-06-30</th>\n",
       "      <td>-0.014719</td>\n",
       "      <td>0.671074</td>\n",
       "    </tr>\n",
       "    <tr>\n",
       "      <th>2008-07-31</th>\n",
       "      <td>-0.006258</td>\n",
       "      <td>0.448058</td>\n",
       "    </tr>\n",
       "    <tr>\n",
       "      <th>2008-08-31</th>\n",
       "      <td>-0.079115</td>\n",
       "      <td>0.484201</td>\n",
       "    </tr>\n",
       "  </tbody>\n",
       "</table>\n",
       "</div>"
      ],
      "text/plain": [
       "                   excess_returns       sdf\n",
       "symbol date                                \n",
       "3IN    2008-04-30        0.024058  1.063621\n",
       "       2008-05-31        0.008577  0.615354\n",
       "       2008-06-30       -0.014719  0.671074\n",
       "       2008-07-31       -0.006258  0.448058\n",
       "       2008-08-31       -0.079115  0.484201"
>>>>>>> origin/uk_gan
      ]
     },
     "execution_count": 5,
     "metadata": {},
     "output_type": "execute_result"
    }
   ],
   "source": [
<<<<<<< HEAD
    "\"\"\"One asset\"\"\"\n",
    "subset_data = data.loc[\"ABC\", [price_col, \"sdf\"]]\n",
    "train_index = round(subset_data.shape[0] * train_percent)\n",
    "valid_index = round(subset_data.shape[0] * valid_percent)\n",
    "train_data = subset_data.iloc[:train_index, :]\n",
    "valid_data = subset_data.iloc[train_index:valid_index, :]\n",
    "test_data = subset_data.iloc[valid_index:, :]\n",
    "mod = sm.OLS(train_data.loc[:, price_col],\n",
    "             train_data.drop(columns=[price_col]).assign(const=1),\n",
    "             missing=missing_code,\n",
    "             hasconst=True)\n",
    "\n",
    "res = mod.fit()\n",
    "\n",
    "res.summary()"
=======
    "data = data.combine_first(sdf)\n",
    "data = data[[price_col, \"sdf\"]]\n",
    "\n",
    "data.dropna().head()"
>>>>>>> origin/uk_gan
   ]
  },
  {
   "cell_type": "code",
   "execution_count": 6,
   "id": "1458c580",
   "metadata": {},
<<<<<<< HEAD
   "outputs": [],
   "source": [
    "\"\"\"Sklearn Linear Regression\"\"\"\n",
    "coef = {}\n",
    "\n",
    "for symbol in data.index.get_level_values(\"symbol\").unique():\n",
    "    subset_data = data.loc[symbol, [price_col, \"sdf\"]]\n",
    "\n",
    "    train_index = round(subset_data.shape[0] * train_percent)\n",
    "    valid_index = round(subset_data.shape[0] * valid_percent)\n",
    "    train_data = subset_data.iloc[:train_index, :]\n",
    "    valid_data = subset_data.iloc[train_index:valid_index, :]\n",
    "    test_data = subset_data.iloc[valid_index:, :]\n",
    "\n",
    "    train_X = train_data.drop(columns=[price_col])\n",
    "    train_y = train_data.loc[:, price_col]\n",
    "    valid_X = valid_data.drop(columns=[price_col])\n",
    "    valid_y = valid_data.loc[:, price_col]\n",
    "    test_X = test_data.drop(columns=[price_col])\n",
    "    test_y = test_data.loc[:, price_col]\n",
    "\n",
    "    lr = LinearRegression()\\\n",
    "        .fit(train_X, train_y)\n",
    "\n",
    "    valid_pred = lr.predict(valid_X)\n",
    "    valid_intercept = (valid_y - valid_pred).mean()\n",
    "\n",
    "    test_pred = lr.predict(test_X)\n",
    "    test_intercept = (test_y - test_pred).mean()\n",
    "\n",
    "    coef[symbol] = dict(zip(lr.feature_names_in_, lr.coef_))\n",
    "    coef[symbol][\"train_intercept\"] = lr.intercept_\n",
    "    coef[symbol][\"valid_intercept\"] = valid_intercept\n",
    "    coef[symbol][\"test_intercept\"] = test_intercept"
   ]
  },
  {
   "cell_type": "code",
   "execution_count": 7,
   "id": "8afc3ecd",
   "metadata": {},
=======
>>>>>>> origin/uk_gan
   "outputs": [
    {
     "data": {
      "text/html": [
       "<div>\n",
       "<style scoped>\n",
       "    .dataframe tbody tr th:only-of-type {\n",
       "        vertical-align: middle;\n",
       "    }\n",
       "\n",
       "    .dataframe tbody tr th {\n",
       "        vertical-align: top;\n",
       "    }\n",
       "\n",
       "    .dataframe thead th {\n",
       "        text-align: right;\n",
       "    }\n",
       "</style>\n",
       "<table border=\"1\" class=\"dataframe\">\n",
       "  <thead>\n",
       "    <tr style=\"text-align: right;\">\n",
       "      <th></th>\n",
       "      <th>sdf</th>\n",
       "      <th>train_intercept</th>\n",
       "      <th>valid_intercept</th>\n",
       "      <th>test_intercept</th>\n",
       "    </tr>\n",
       "  </thead>\n",
       "  <tbody>\n",
       "    <tr>\n",
       "      <th>3IN</th>\n",
<<<<<<< HEAD
       "      <td>0.062133</td>\n",
       "      <td>0.025705</td>\n",
       "      <td>-0.032593</td>\n",
       "      <td>-0.031954</td>\n",
       "    </tr>\n",
       "    <tr>\n",
       "      <th>888</th>\n",
       "      <td>0.061685</td>\n",
       "      <td>0.024881</td>\n",
       "      <td>-0.038360</td>\n",
       "      <td>-0.017612</td>\n",
       "    </tr>\n",
       "    <tr>\n",
       "      <th>88E</th>\n",
       "      <td>0.005430</td>\n",
       "      <td>-0.060825</td>\n",
       "      <td>0.132153</td>\n",
       "      <td>-0.029443</td>\n",
       "    </tr>\n",
       "    <tr>\n",
       "      <th>AAIF</th>\n",
       "      <td>0.037364</td>\n",
       "      <td>0.031108</td>\n",
       "      <td>-0.049472</td>\n",
       "      <td>-0.025525</td>\n",
       "    </tr>\n",
       "    <tr>\n",
       "      <th>AAL</th>\n",
       "      <td>0.008748</td>\n",
       "      <td>0.029753</td>\n",
       "      <td>-0.040311</td>\n",
       "      <td>-0.029946</td>\n",
=======
       "      <td>0.036509</td>\n",
       "      <td>-0.019423</td>\n",
       "      <td>0.007330</td>\n",
       "      <td>0.007330</td>\n",
       "    </tr>\n",
       "    <tr>\n",
       "      <th>888</th>\n",
       "      <td>0.030991</td>\n",
       "      <td>-0.012212</td>\n",
       "      <td>0.005527</td>\n",
       "      <td>0.005527</td>\n",
       "    </tr>\n",
       "    <tr>\n",
       "      <th>88E</th>\n",
       "      <td>-0.287193</td>\n",
       "      <td>0.126863</td>\n",
       "      <td>0.041079</td>\n",
       "      <td>0.041079</td>\n",
       "    </tr>\n",
       "    <tr>\n",
       "      <th>AAIF</th>\n",
       "      <td>-0.004439</td>\n",
       "      <td>0.008813</td>\n",
       "      <td>-0.002573</td>\n",
       "      <td>-0.002573</td>\n",
       "    </tr>\n",
       "    <tr>\n",
       "      <th>AAL</th>\n",
       "      <td>0.077043</td>\n",
       "      <td>-0.038074</td>\n",
       "      <td>-0.013027</td>\n",
       "      <td>-0.013027</td>\n",
>>>>>>> origin/uk_gan
       "    </tr>\n",
       "    <tr>\n",
       "      <th>...</th>\n",
       "      <td>...</td>\n",
       "      <td>...</td>\n",
       "      <td>...</td>\n",
       "      <td>...</td>\n",
       "    </tr>\n",
       "    <tr>\n",
       "      <th>ZIOC</th>\n",
<<<<<<< HEAD
       "      <td>0.024485</td>\n",
       "      <td>-0.088178</td>\n",
       "      <td>0.151793</td>\n",
       "      <td>0.135961</td>\n",
       "    </tr>\n",
       "    <tr>\n",
       "      <th>ZOL</th>\n",
       "      <td>0.029492</td>\n",
       "      <td>0.019330</td>\n",
       "      <td>-0.095337</td>\n",
       "      <td>-0.023729</td>\n",
       "    </tr>\n",
       "    <tr>\n",
       "      <th>ZOO</th>\n",
       "      <td>-0.017428</td>\n",
       "      <td>0.001285</td>\n",
       "      <td>-0.037162</td>\n",
       "      <td>0.055895</td>\n",
       "    </tr>\n",
       "    <tr>\n",
       "      <th>ZTF</th>\n",
       "      <td>0.045230</td>\n",
       "      <td>0.010612</td>\n",
       "      <td>-0.001068</td>\n",
       "      <td>-0.002932</td>\n",
       "    </tr>\n",
       "    <tr>\n",
       "      <th>ZYT</th>\n",
       "      <td>0.047631</td>\n",
       "      <td>0.010763</td>\n",
       "      <td>-0.010291</td>\n",
       "      <td>-0.005786</td>\n",
       "    </tr>\n",
       "  </tbody>\n",
       "</table>\n",
       "<p>844 rows × 4 columns</p>\n",
=======
       "      <td>0.168654</td>\n",
       "      <td>-0.188698</td>\n",
       "      <td>0.145515</td>\n",
       "      <td>0.145515</td>\n",
       "    </tr>\n",
       "    <tr>\n",
       "      <th>ZOL</th>\n",
       "      <td>-0.154362</td>\n",
       "      <td>0.115696</td>\n",
       "      <td>-0.049862</td>\n",
       "      <td>-0.049862</td>\n",
       "    </tr>\n",
       "    <tr>\n",
       "      <th>ZOO</th>\n",
       "      <td>-0.011473</td>\n",
       "      <td>-0.017322</td>\n",
       "      <td>0.029008</td>\n",
       "      <td>0.029008</td>\n",
       "    </tr>\n",
       "    <tr>\n",
       "      <th>ZTF</th>\n",
       "      <td>-0.017642</td>\n",
       "      <td>0.006629</td>\n",
       "      <td>0.022473</td>\n",
       "      <td>0.022473</td>\n",
       "    </tr>\n",
       "    <tr>\n",
       "      <th>ZYT</th>\n",
       "      <td>0.062995</td>\n",
       "      <td>-0.040505</td>\n",
       "      <td>0.013612</td>\n",
       "      <td>0.013612</td>\n",
       "    </tr>\n",
       "  </tbody>\n",
       "</table>\n",
       "<p>826 rows × 4 columns</p>\n",
>>>>>>> origin/uk_gan
       "</div>"
      ],
      "text/plain": [
       "           sdf  train_intercept  valid_intercept  test_intercept\n",
<<<<<<< HEAD
       "3IN   0.062133         0.025705        -0.032593       -0.031954\n",
       "888   0.061685         0.024881        -0.038360       -0.017612\n",
       "88E   0.005430        -0.060825         0.132153       -0.029443\n",
       "AAIF  0.037364         0.031108        -0.049472       -0.025525\n",
       "AAL   0.008748         0.029753        -0.040311       -0.029946\n",
       "...        ...              ...              ...             ...\n",
       "ZIOC  0.024485        -0.088178         0.151793        0.135961\n",
       "ZOL   0.029492         0.019330        -0.095337       -0.023729\n",
       "ZOO  -0.017428         0.001285        -0.037162        0.055895\n",
       "ZTF   0.045230         0.010612        -0.001068       -0.002932\n",
       "ZYT   0.047631         0.010763        -0.010291       -0.005786\n",
       "\n",
       "[844 rows x 4 columns]"
      ]
     },
     "execution_count": 7,
=======
       "3IN   0.036509        -0.019423         0.007330        0.007330\n",
       "888   0.030991        -0.012212         0.005527        0.005527\n",
       "88E  -0.287193         0.126863         0.041079        0.041079\n",
       "AAIF -0.004439         0.008813        -0.002573       -0.002573\n",
       "AAL   0.077043        -0.038074        -0.013027       -0.013027\n",
       "...        ...              ...              ...             ...\n",
       "ZIOC  0.168654        -0.188698         0.145515        0.145515\n",
       "ZOL  -0.154362         0.115696        -0.049862       -0.049862\n",
       "ZOO  -0.011473        -0.017322         0.029008        0.029008\n",
       "ZTF  -0.017642         0.006629         0.022473        0.022473\n",
       "ZYT   0.062995        -0.040505         0.013612        0.013612\n",
       "\n",
       "[826 rows x 4 columns]"
      ]
     },
     "execution_count": 6,
>>>>>>> origin/uk_gan
     "metadata": {},
     "output_type": "execute_result"
    }
   ],
   "source": [
<<<<<<< HEAD
    "coef = pd.DataFrame(coef).T\n",
=======
    "\"\"\"Alpha beta\"\"\"\n",
    "coef = alpha_beta(data)\n",
>>>>>>> origin/uk_gan
    "\n",
    "coef"
   ]
  },
  {
   "cell_type": "code",
<<<<<<< HEAD
   "execution_count": 8,
=======
   "execution_count": 7,
>>>>>>> origin/uk_gan
   "id": "bcb4fe95",
   "metadata": {},
   "outputs": [
    {
     "data": {
      "text/plain": [
<<<<<<< HEAD
       "count    844.000000\n",
       "mean       0.028091\n",
       "std        0.028653\n",
       "min        0.000013\n",
       "25%        0.013729\n",
       "50%        0.022036\n",
       "75%        0.034145\n",
       "max        0.331728\n",
       "Name: train_intercept, dtype: float64"
      ]
     },
     "execution_count": 8,
=======
       "count    826.000000\n",
       "mean       0.039328\n",
       "std        0.051212\n",
       "min        0.000023\n",
       "25%        0.008521\n",
       "50%        0.021529\n",
       "75%        0.049660\n",
       "max        0.610067\n",
       "Name: train_intercept, dtype: float64"
      ]
     },
     "execution_count": 7,
>>>>>>> origin/uk_gan
     "metadata": {},
     "output_type": "execute_result"
    }
   ],
   "source": [
    "coef[\"train_intercept\"].abs().describe()"
   ]
  },
  {
   "cell_type": "code",
<<<<<<< HEAD
   "execution_count": 9,
   "id": "b3cb6b1e",
=======
   "execution_count": 8,
   "id": "c00e3fa7",
>>>>>>> origin/uk_gan
   "metadata": {},
   "outputs": [
    {
     "data": {
      "text/plain": [
<<<<<<< HEAD
       "count    844.000000\n",
       "mean       0.037093\n",
       "std        0.040244\n",
       "min        0.000012\n",
       "25%        0.009933\n",
       "50%        0.023126\n",
       "75%        0.049874\n",
       "max        0.297467\n",
       "Name: valid_intercept, dtype: float64"
      ]
     },
     "execution_count": 9,
=======
       "count    826.000000\n",
       "mean       0.021074\n",
       "std        0.023854\n",
       "min        0.000138\n",
       "25%        0.007148\n",
       "50%        0.013696\n",
       "75%        0.025469\n",
       "max        0.216707\n",
       "Name: valid_intercept, dtype: float64"
      ]
     },
     "execution_count": 8,
>>>>>>> origin/uk_gan
     "metadata": {},
     "output_type": "execute_result"
    }
   ],
   "source": [
    "coef[\"valid_intercept\"].abs().describe()"
   ]
  },
  {
   "cell_type": "code",
<<<<<<< HEAD
   "execution_count": 10,
=======
   "execution_count": 9,
>>>>>>> origin/uk_gan
   "id": "6573ffa4",
   "metadata": {},
   "outputs": [
    {
     "data": {
      "text/plain": [
<<<<<<< HEAD
       "count    844.000000\n",
       "mean       0.046532\n",
       "std        0.050407\n",
       "min        0.000030\n",
       "25%        0.016278\n",
       "50%        0.029079\n",
       "75%        0.054881\n",
       "max        0.319812\n",
       "Name: test_intercept, dtype: float64"
      ]
     },
     "execution_count": 10,
=======
       "count    826.000000\n",
       "mean       0.021074\n",
       "std        0.023854\n",
       "min        0.000138\n",
       "25%        0.007148\n",
       "50%        0.013696\n",
       "75%        0.025469\n",
       "max        0.216707\n",
       "Name: test_intercept, dtype: float64"
      ]
     },
     "execution_count": 9,
>>>>>>> origin/uk_gan
     "metadata": {},
     "output_type": "execute_result"
    }
   ],
   "source": [
    "coef[\"test_intercept\"].abs().describe()"
   ]
  },
  {
   "cell_type": "code",
<<<<<<< HEAD
=======
   "execution_count": 10,
   "id": "7dd77a1a",
   "metadata": {},
   "outputs": [
    {
     "data": {
      "text/plain": [
       "<AxesSubplot:>"
      ]
     },
     "execution_count": 10,
     "metadata": {},
     "output_type": "execute_result"
    },
    {
     "data": {
      "image/png": "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\n",
      "text/plain": [
       "<Figure size 432x288 with 1 Axes>"
      ]
     },
     "metadata": {
      "needs_background": "light"
     },
     "output_type": "display_data"
    }
   ],
   "source": [
    "coef.drop(columns=[\"sdf\"]).boxplot()"
   ]
  },
  {
   "cell_type": "code",
>>>>>>> origin/uk_gan
   "execution_count": 11,
   "id": "1879e625",
   "metadata": {},
   "outputs": [
    {
     "data": {
      "text/plain": [
<<<<<<< HEAD
       "<matplotlib.legend.Legend at 0x7fa3c3364160>"
=======
       "<matplotlib.legend.Legend at 0x7f849c4b30a0>"
>>>>>>> origin/uk_gan
      ]
     },
     "execution_count": 11,
     "metadata": {},
     "output_type": "execute_result"
    },
    {
     "data": {
<<<<<<< HEAD
      "image/png": "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\n",
=======
      "image/png": "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\n",
>>>>>>> origin/uk_gan
      "text/plain": [
       "<Figure size 432x288 with 1 Axes>"
      ]
     },
     "metadata": {
      "needs_background": "light"
     },
     "output_type": "display_data"
    }
   ],
   "source": [
<<<<<<< HEAD
    "coef[\"train_intercept\"].plot.hist(density=True, alpha=0.7)\n",
    "coef[\"valid_intercept\"].plot.hist(density=True, alpha=0.7)\n",
    "coef[\"test_intercept\"].plot.hist(density=True, alpha=0.7)\n",
=======
    "coef[\"train_intercept\"].plot.kde(alpha=0.7)\n",
    "coef[\"valid_intercept\"].plot.kde(alpha=0.7)\n",
    "coef[\"test_intercept\"].plot.kde(alpha=0.7)\n",
>>>>>>> origin/uk_gan
    "plt.legend()"
   ]
  },
  {
   "cell_type": "code",
   "execution_count": 12,
   "id": "18afde0b",
   "metadata": {},
   "outputs": [],
   "source": [
    "# export results\n",
    "coef.to_csv(f\"{projectpath}/data/alpha/gan_{select}_macro_{with_macro}.csv\")"
   ]
  }
 ],
 "metadata": {
  "kernelspec": {
   "display_name": "Python 3 (ipykernel)",
   "language": "python",
   "name": "python3"
  },
  "language_info": {
   "codemirror_mode": {
    "name": "ipython",
    "version": 3
   },
   "file_extension": ".py",
   "mimetype": "text/x-python",
   "name": "python",
   "nbconvert_exporter": "python",
   "pygments_lexer": "ipython3",
   "version": "3.9.0"
  }
 },
 "nbformat": 4,
 "nbformat_minor": 5
}
